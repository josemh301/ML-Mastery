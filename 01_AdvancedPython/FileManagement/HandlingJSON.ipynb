{
 "cells": [
  {
   "cell_type": "markdown",
   "metadata": {},
   "source": [
    "## Project: Financial Data Analysis\n",
    "\n",
    "### Objective:\n",
    "To understand, analyze, and derive insights from the financial data of various clients.\n",
    "\n",
    "1. **Data Loading and Exploration**:\n",
    "    - Load the JSON data into a Python environment.\n",
    "    - Display the first 5 records to understand the structure of the data.\n",
    "    - Determine the number of clients in the dataset.  \n",
    "    \n",
    "\n",
    "2. **Basic Data Analysis**:\n",
    "    - Calculate the total budget, expenses, revenue, and profit across all clients.\n",
    "    - Determine the average budget, expenses, revenue, and profit per client.\n",
    "    - Identify the client with the highest and lowest profit.  \n",
    "    \n",
    "\n",
    "3. **Advisor Analysis**:\n",
    "    - List all unique financial advisors in the dataset.\n",
    "    - Determine the number of clients each advisor handles.\n",
    "    - Identify the advisor managing the client with the highest profit.  \n",
    "    \n",
    "\n",
    "4. **Budget Analysis**:\n",
    "    - Identify clients whose actual expenses exceeded their budget.\n",
    "    - Determine the total amount by which the budget was exceeded for these clients.  \n",
    "    \n",
    "\n",
    "5. **Profit Margin Analysis**:\n",
    "    - Calculate the profit margin for each client (Profit Margin = Profit / Revenue).\n",
    "    - Rank clients based on their profit margins, from highest to lowest.\n",
    "    \n",
    "\n",
    "6. **Visualization**:\n",
    "    - Plot a bar chart showing the profit of each client.\n",
    "    - Plot a pie chart showing the distribution of clients among different financial advisors.\n",
    "    \n",
    "\n",
    "7. **Advanced Analysis (Optional)**:\n",
    "    - Group clients based on profit ranges (e.g., 0-10k, 10k-20k, etc.) and determine the number of clients in each range.\n",
    "    - Identify any correlations between budget allocation and actual profit.\n",
    "    - Predict the next year's profit for each client based on their current data (this would require some basic regression techniques).\n",
    "    \n",
    "\n",
    "8. **Data Export**:\n",
    "    - Save the analyzed data, including any new columns or calculations, into a new JSON file.\n",
    "    - Export a subset of the data (e.g., top 5 profitable clients) into a CSV file.\n",
    "    \n",
    "\n",
    "### Tips:\n",
    "- Use Python libraries such as `pandas` for data manipulation and `matplotlib` or `seaborn` for visualization.\n",
    "- Always validate your results by cross-checking with the original data.\n",
    "- Document your observations and insights as you progress through the exercises.\n",
    "\n"
   ]
  },
  {
   "cell_type": "markdown",
   "metadata": {},
   "source": [
    "#### Step 1: Load the JSON data into a Jupyter Notebook environment."
   ]
  },
  {
   "cell_type": "code",
   "execution_count": 1,
   "metadata": {},
   "outputs": [],
   "source": [
    "import json"
   ]
  },
  {
   "cell_type": "code",
   "execution_count": 2,
   "metadata": {},
   "outputs": [],
   "source": [
    "# Open the JSON file for reading\n",
    "with open('data.json', 'r') as file:\n",
    "    data = json.load(file)\n",
    "\n",
    "financial_data = data['FinancialData']"
   ]
  },
  {
   "cell_type": "markdown",
   "metadata": {},
   "source": [
    "#### Step 2: Display the first five records"
   ]
  },
  {
   "cell_type": "code",
   "execution_count": 3,
   "metadata": {},
   "outputs": [
    {
     "name": "stdout",
     "output_type": "stream",
     "text": [
      "{'ClientID': 101, 'ClientName': 'Acme Corp', 'Budget': 50000, 'Expenses': 30000, 'Revenue': 65000, 'Profit': 35000, 'FinancialAdvisor': 'Alice Johnson'}\n",
      "{'ClientID': 102, 'ClientName': 'Beta Inc', 'Budget': 75000, 'Expenses': 50000, 'Revenue': 90000, 'Profit': 40000, 'FinancialAdvisor': 'Bob Smith'}\n",
      "{'ClientID': 103, 'ClientName': 'Charlie LLC', 'Budget': 60000, 'Expenses': 45000, 'Revenue': 80000, 'Profit': 35000, 'FinancialAdvisor': 'Carol White'}\n",
      "{'ClientID': 104, 'ClientName': 'Delta Co', 'Budget': 85000, 'Expenses': 70000, 'Revenue': 110000, 'Profit': 40000, 'FinancialAdvisor': 'Dave Brown'}\n",
      "{'ClientID': 105, 'ClientName': 'Echo Ltd', 'Budget': 95000, 'Expenses': 85000, 'Revenue': 120000, 'Profit': 35000, 'FinancialAdvisor': 'Eve Green'}\n"
     ]
    }
   ],
   "source": [
    "# Display the first 5 records\n",
    "for record in financial_data[:5]:\n",
    "    print(record)"
   ]
  },
  {
   "cell_type": "markdown",
   "metadata": {},
   "source": [
    "#### Step 1.3: Determine the Number of Clients in the Dataset"
   ]
  },
  {
   "cell_type": "code",
   "execution_count": 4,
   "metadata": {},
   "outputs": [
    {
     "name": "stdout",
     "output_type": "stream",
     "text": [
      "There are 12 clients in the dataset.\n"
     ]
    }
   ],
   "source": [
    "# Determine the number of clients\n",
    "num_clients = len(financial_data)\n",
    "print(f\"There are {num_clients} clients in the dataset.\")"
   ]
  },
  {
   "cell_type": "markdown",
   "metadata": {},
   "source": [
    "### Step 2: Basic Data Analysis"
   ]
  },
  {
   "cell_type": "markdown",
   "metadata": {},
   "source": [
    "#### Step 2.1: Calculate the Total Budget, Expenses, Revenue, and Profit Across All Clients"
   ]
  },
  {
   "cell_type": "code",
   "execution_count": 5,
   "metadata": {},
   "outputs": [
    {
     "name": "stdout",
     "output_type": "stream",
     "text": [
      "Total Budget: $981000\n",
      "Total Expenses: $857500\n",
      "Total Revenue: $1256000\n",
      "Total Profit: $441000\n"
     ]
    }
   ],
   "source": [
    "# Initialize variables to store the totals\n",
    "total_budget = 0\n",
    "total_expenses = 0\n",
    "total_revenue = 0\n",
    "total_profit = 0\n",
    "\n",
    "# Loop through each client's data to calculate the totals\n",
    "for client in financial_data:\n",
    "    total_budget += client['Budget']\n",
    "    total_expenses += client['Expenses']\n",
    "    total_revenue += client['Revenue']\n",
    "    total_profit += client['Profit']\n",
    "\n",
    "print(f\"Total Budget: ${total_budget}\")\n",
    "print(f\"Total Expenses: ${total_expenses}\")\n",
    "print(f\"Total Revenue: ${total_revenue}\")\n",
    "print(f\"Total Profit: ${total_profit}\")\n"
   ]
  },
  {
   "cell_type": "markdown",
   "metadata": {},
   "source": [
    "#### Step 2.2: Determine the Average Budget, Expenses, Revenue, and Profit Per Client"
   ]
  },
  {
   "cell_type": "code",
   "execution_count": 6,
   "metadata": {},
   "outputs": [
    {
     "name": "stdout",
     "output_type": "stream",
     "text": [
      "Average Budget per Client: $81750.00\n",
      "Average Expenses per Client: $71458.33\n",
      "Average Revenue per Client: $104666.67\n",
      "Average Profit per Client: $36750.00\n"
     ]
    }
   ],
   "source": [
    "# Calculate the averages\n",
    "avg_budget = total_budget / num_clients\n",
    "avg_expenses = total_expenses / num_clients\n",
    "avg_revenue = total_revenue / num_clients\n",
    "avg_profit = total_profit / num_clients\n",
    "\n",
    "print(f\"Average Budget per Client: ${avg_budget:.2f}\")\n",
    "print(f\"Average Expenses per Client: ${avg_expenses:.2f}\")\n",
    "print(f\"Average Revenue per Client: ${avg_revenue:.2f}\")\n",
    "print(f\"Average Profit per Client: ${avg_profit:.2f}\")\n"
   ]
  },
  {
   "cell_type": "markdown",
   "metadata": {},
   "source": [
    "#### Step 2.3: Identify the Client with the Highest and Lowest Profit"
   ]
  },
  {
   "cell_type": "code",
   "execution_count": 7,
   "metadata": {},
   "outputs": [
    {
     "name": "stdout",
     "output_type": "stream",
     "text": [
      "Client with the Highest Profit: Yellow Apple ($49000)\n",
      "Client with the Lowest Profit: Golf Corp ($30000)\n"
     ]
    }
   ],
   "source": [
    "# Initialize variables to store the highest and lowest profit values and corresponding client names\n",
    "highest_profit = float('-inf')  # Start with a very low value\n",
    "lowest_profit = float('inf')    # Start with a very high value\n",
    "client_highest_profit = \"\"\n",
    "client_lowest_profit = \"\"\n",
    "\n",
    "# Loop through each client's data to find the highest and lowest profit\n",
    "for client in financial_data:\n",
    "    if client['Profit'] > highest_profit:\n",
    "        highest_profit = client['Profit']\n",
    "        client_highest_profit = client['ClientName']\n",
    "    if client['Profit'] < lowest_profit:\n",
    "        lowest_profit = client['Profit']\n",
    "        client_lowest_profit = client['ClientName']\n",
    "\n",
    "print(f\"Client with the Highest Profit: {client_highest_profit} (${highest_profit})\")\n",
    "print(f\"Client with the Lowest Profit: {client_lowest_profit} (${lowest_profit})\")\n"
   ]
  },
  {
   "cell_type": "markdown",
   "metadata": {},
   "source": [
    "### Step 3: Advisor Analysis"
   ]
  }
 ],
 "metadata": {
  "kernelspec": {
   "display_name": "Python 3",
   "language": "python",
   "name": "python3"
  },
  "language_info": {
   "codemirror_mode": {
    "name": "ipython",
    "version": 3
   },
   "file_extension": ".py",
   "mimetype": "text/x-python",
   "name": "python",
   "nbconvert_exporter": "python",
   "pygments_lexer": "ipython3",
   "version": "3.8.3"
  }
 },
 "nbformat": 4,
 "nbformat_minor": 4
}
