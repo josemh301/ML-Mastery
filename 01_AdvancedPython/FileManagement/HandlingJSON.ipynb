{
 "cells": [
  {
   "cell_type": "markdown",
   "metadata": {},
   "source": [
    "## Project: Financial Data Analysis\n",
    "\n",
    "### Objective:\n",
    "To understand, analyze, and derive insights from the financial data of various clients.\n",
    "\n",
    "1. **Data Loading and Exploration**:\n",
    "    - Load the JSON data into a Python environment.\n",
    "    - Display the first 5 records to understand the structure of the data.\n",
    "    - Determine the number of clients in the dataset.  \n",
    "    \n",
    "\n",
    "2. **Basic Data Analysis**:\n",
    "    - Calculate the total budget, expenses, revenue, and profit across all clients.\n",
    "    - Determine the average budget, expenses, revenue, and profit per client.\n",
    "    - Identify the client with the highest and lowest profit.  \n",
    "    \n",
    "\n",
    "3. **Advisor Analysis**:\n",
    "    - List all unique financial advisors in the dataset.\n",
    "    - Determine the number of clients each advisor handles.\n",
    "    - Identify the advisor managing the client with the highest profit.  \n",
    "    \n",
    "\n",
    "4. **Budget Analysis**:\n",
    "    - Identify clients whose actual expenses exceeded their budget.\n",
    "    - Determine the total amount by which the budget was exceeded for these clients.  \n",
    "    \n",
    "\n",
    "5. **Profit Margin Analysis**:\n",
    "    - Calculate the profit margin for each client (Profit Margin = Profit / Revenue).\n",
    "    - Rank clients based on their profit margins, from highest to lowest.\n",
    "    \n",
    "\n",
    "6. **Visualization**:\n",
    "    - Plot a bar chart showing the profit of each client.\n",
    "    - Plot a pie chart showing the distribution of clients among different financial advisors.\n",
    "    \n",
    "\n",
    "7. **Advanced Analysis (Optional)**:\n",
    "    - Group clients based on profit ranges (e.g., 0-10k, 10k-20k, etc.) and determine the number of clients in each range.\n",
    "    - Identify any correlations between budget allocation and actual profit.\n",
    "    - Predict the next year's profit for each client based on their current data (this would require some basic regression techniques).\n",
    "    \n",
    "\n",
    "8. **Data Export**:\n",
    "    - Save the analyzed data, including any new columns or calculations, into a new JSON file.\n",
    "    - Export a subset of the data (e.g., top 5 profitable clients) into a CSV file.\n",
    "    \n",
    "\n",
    "### Tips:\n",
    "- Use Python libraries such as `pandas` for data manipulation and `matplotlib` or `seaborn` for visualization.\n",
    "- Always validate your results by cross-checking with the original data.\n",
    "- Document your observations and insights as you progress through the exercises.\n",
    "\n"
   ]
  },
  {
   "cell_type": "markdown",
   "metadata": {},
   "source": [
    "#### Step 1: Load the JSON data into a Jupyter Notebook environment."
   ]
  },
  {
   "cell_type": "code",
   "execution_count": 8,
   "metadata": {},
   "outputs": [],
   "source": [
    "import json"
   ]
  },
  {
   "cell_type": "code",
   "execution_count": 9,
   "metadata": {},
   "outputs": [],
   "source": [
    "# Open the JSON file for reading\n",
    "with open('data.json', 'r') as file:\n",
    "    data = json.load(file)\n",
    "\n",
    "financial_data = data['FinancialData']"
   ]
  },
  {
   "cell_type": "markdown",
   "metadata": {},
   "source": [
    "#### Step 2: Display the first five records"
   ]
  },
  {
   "cell_type": "code",
   "execution_count": 10,
   "metadata": {},
   "outputs": [
    {
     "name": "stdout",
     "output_type": "stream",
     "text": [
      "{'ClientID': 101, 'ClientName': 'Acme Corp', 'Budget': 50000, 'Expenses': 30000, 'Revenue': 65000, 'Profit': 35000, 'FinancialAdvisor': 'Alice Johnson'}\n",
      "{'ClientID': 102, 'ClientName': 'Beta Inc', 'Budget': 75000, 'Expenses': 50000, 'Revenue': 90000, 'Profit': 40000, 'FinancialAdvisor': 'Bob Smith'}\n",
      "{'ClientID': 103, 'ClientName': 'Charlie LLC', 'Budget': 60000, 'Expenses': 45000, 'Revenue': 80000, 'Profit': 35000, 'FinancialAdvisor': 'Carol White'}\n",
      "{'ClientID': 104, 'ClientName': 'Delta Co', 'Budget': 85000, 'Expenses': 70000, 'Revenue': 110000, 'Profit': 40000, 'FinancialAdvisor': 'Dave Brown'}\n",
      "{'ClientID': 105, 'ClientName': 'Echo Ltd', 'Budget': 95000, 'Expenses': 85000, 'Revenue': 120000, 'Profit': 35000, 'FinancialAdvisor': 'Eve Green'}\n"
     ]
    }
   ],
   "source": [
    "# Display the first 5 records\n",
    "for record in financial_data[:5]:\n",
    "    print(record)"
   ]
  },
  {
   "cell_type": "markdown",
   "metadata": {},
   "source": [
    "#### Step 3: Determine the Number of Clients in the Dataset"
   ]
  },
  {
   "cell_type": "code",
   "execution_count": 11,
   "metadata": {},
   "outputs": [
    {
     "name": "stdout",
     "output_type": "stream",
     "text": [
      "There are 12 clients in the dataset.\n"
     ]
    }
   ],
   "source": [
    "# Determine the number of clients\n",
    "num_clients = len(financial_data)\n",
    "print(f\"There are {num_clients} clients in the dataset.\")"
   ]
  },
  {
   "cell_type": "code",
   "execution_count": null,
   "metadata": {},
   "outputs": [],
   "source": []
  }
 ],
 "metadata": {
  "kernelspec": {
   "display_name": "Python 3",
   "language": "python",
   "name": "python3"
  },
  "language_info": {
   "codemirror_mode": {
    "name": "ipython",
    "version": 3
   },
   "file_extension": ".py",
   "mimetype": "text/x-python",
   "name": "python",
   "nbconvert_exporter": "python",
   "pygments_lexer": "ipython3",
   "version": "3.8.3"
  }
 },
 "nbformat": 4,
 "nbformat_minor": 4
}
