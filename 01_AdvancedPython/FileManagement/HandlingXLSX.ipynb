{
 "cells": [
  {
   "cell_type": "markdown",
   "metadata": {},
   "source": [
    "## Financial Data Analysis Excel (XLSX)\n",
    "\n",
    "### Objectives\n",
    "\n",
    "Master the skills required to load, manipulate, analyze, and export Excel data within a Jupyter Notebook environment.\n",
    "\n",
    "**Loading Excel Data into Jupyter**:\n",
    "- Load the Excel data into a DataFrame using the `pandas` library.\n",
    "- Display the first few rows of the dataset to understand its structure."
   ]
  },
  {
   "cell_type": "markdown",
   "metadata": {},
   "source": [
    "#### Step 1: Load the Excel data into a DataFrame using the `pandas` library."
   ]
  },
  {
   "cell_type": "code",
   "execution_count": 21,
   "metadata": {},
   "outputs": [
    {
     "name": "stdout",
     "output_type": "stream",
     "text": [
      "Requirement already satisfied: openpyxl in c:\\users\\josem\\anaconda3\\lib\\site-packages (3.0.4)\n",
      "Requirement already satisfied: et-xmlfile in c:\\users\\josem\\anaconda3\\lib\\site-packages (from openpyxl) (1.0.1)\n",
      "Requirement already satisfied: jdcal in c:\\users\\josem\\anaconda3\\lib\\site-packages (from openpyxl) (1.4.1)\n",
      "Note: you may need to restart the kernel to use updated packages.\n"
     ]
    }
   ],
   "source": [
    "# pip install openpyxl"
   ]
  },
  {
   "cell_type": "code",
   "execution_count": 22,
   "metadata": {},
   "outputs": [],
   "source": [
    "# Importing the necessary library\n",
    "import pandas as pd\n",
    "\n",
    "# Load the Excel data into a DataFrame\n",
    "df = pd.read_excel('updated_financial_data.xlsx', engine='openpyxl')"
   ]
  },
  {
   "cell_type": "markdown",
   "metadata": {},
   "source": [
    "#### Step 2: Display the first few rows of the dataset to understand its structure."
   ]
  },
  {
   "cell_type": "code",
   "execution_count": 23,
   "metadata": {},
   "outputs": [
    {
     "data": {
      "text/html": [
       "<div>\n",
       "<style scoped>\n",
       "    .dataframe tbody tr th:only-of-type {\n",
       "        vertical-align: middle;\n",
       "    }\n",
       "\n",
       "    .dataframe tbody tr th {\n",
       "        vertical-align: top;\n",
       "    }\n",
       "\n",
       "    .dataframe thead th {\n",
       "        text-align: right;\n",
       "    }\n",
       "</style>\n",
       "<table border=\"1\" class=\"dataframe\">\n",
       "  <thead>\n",
       "    <tr style=\"text-align: right;\">\n",
       "      <th></th>\n",
       "      <th>ClientID</th>\n",
       "      <th>ClientName</th>\n",
       "      <th>Budget</th>\n",
       "      <th>Expenses</th>\n",
       "      <th>Revenue</th>\n",
       "      <th>Profit</th>\n",
       "      <th>FinancialAdvisor</th>\n",
       "      <th>ProfitMargin</th>\n",
       "      <th>ProfitRange</th>\n",
       "    </tr>\n",
       "  </thead>\n",
       "  <tbody>\n",
       "    <tr>\n",
       "      <th>0</th>\n",
       "      <td>112</td>\n",
       "      <td>Yellow Apple</td>\n",
       "      <td>90000</td>\n",
       "      <td>84500</td>\n",
       "      <td>93000</td>\n",
       "      <td>8500</td>\n",
       "      <td>Hank Yellow</td>\n",
       "      <td>0.09</td>\n",
       "      <td>0-10k</td>\n",
       "    </tr>\n",
       "    <tr>\n",
       "      <th>1</th>\n",
       "      <td>111</td>\n",
       "      <td>Orange Mango</td>\n",
       "      <td>92000</td>\n",
       "      <td>84000</td>\n",
       "      <td>124000</td>\n",
       "      <td>40000</td>\n",
       "      <td>Frank Black</td>\n",
       "      <td>0.32</td>\n",
       "      <td>40k-50k</td>\n",
       "    </tr>\n",
       "    <tr>\n",
       "      <th>2</th>\n",
       "      <td>102</td>\n",
       "      <td>Beta Inc</td>\n",
       "      <td>75000</td>\n",
       "      <td>50000</td>\n",
       "      <td>90000</td>\n",
       "      <td>40000</td>\n",
       "      <td>Bob Smith</td>\n",
       "      <td>0.44</td>\n",
       "      <td>40k-50k</td>\n",
       "    </tr>\n",
       "    <tr>\n",
       "      <th>3</th>\n",
       "      <td>104</td>\n",
       "      <td>Delta Co</td>\n",
       "      <td>85000</td>\n",
       "      <td>70000</td>\n",
       "      <td>110000</td>\n",
       "      <td>40000</td>\n",
       "      <td>Dave Brown</td>\n",
       "      <td>0.36</td>\n",
       "      <td>40k-50k</td>\n",
       "    </tr>\n",
       "    <tr>\n",
       "      <th>4</th>\n",
       "      <td>110</td>\n",
       "      <td>Juliet Co</td>\n",
       "      <td>99000</td>\n",
       "      <td>94000</td>\n",
       "      <td>130000</td>\n",
       "      <td>36000</td>\n",
       "      <td>Jack Violet</td>\n",
       "      <td>0.28</td>\n",
       "      <td>30k-40k</td>\n",
       "    </tr>\n",
       "  </tbody>\n",
       "</table>\n",
       "</div>"
      ],
      "text/plain": [
       "   ClientID    ClientName  Budget  Expenses  Revenue  Profit FinancialAdvisor  \\\n",
       "0       112  Yellow Apple   90000     84500    93000    8500      Hank Yellow   \n",
       "1       111  Orange Mango   92000     84000   124000   40000      Frank Black   \n",
       "2       102      Beta Inc   75000     50000    90000   40000        Bob Smith   \n",
       "3       104      Delta Co   85000     70000   110000   40000       Dave Brown   \n",
       "4       110     Juliet Co   99000     94000   130000   36000      Jack Violet   \n",
       "\n",
       "   ProfitMargin ProfitRange  \n",
       "0          0.09       0-10k  \n",
       "1          0.32     40k-50k  \n",
       "2          0.44     40k-50k  \n",
       "3          0.36     40k-50k  \n",
       "4          0.28     30k-40k  "
      ]
     },
     "execution_count": 23,
     "metadata": {},
     "output_type": "execute_result"
    }
   ],
   "source": [
    "df.head()"
   ]
  },
  {
   "cell_type": "code",
   "execution_count": null,
   "metadata": {},
   "outputs": [],
   "source": []
  }
 ],
 "metadata": {
  "kernelspec": {
   "display_name": "Python 3",
   "language": "python",
   "name": "python3"
  },
  "language_info": {
   "codemirror_mode": {
    "name": "ipython",
    "version": 3
   },
   "file_extension": ".py",
   "mimetype": "text/x-python",
   "name": "python",
   "nbconvert_exporter": "python",
   "pygments_lexer": "ipython3",
   "version": "3.8.3"
  }
 },
 "nbformat": 4,
 "nbformat_minor": 4
}
