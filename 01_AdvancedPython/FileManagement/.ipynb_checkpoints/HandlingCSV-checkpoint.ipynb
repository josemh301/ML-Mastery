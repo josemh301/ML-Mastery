{
 "cells": [
  {
   "cell_type": "markdown",
   "metadata": {},
   "source": [
    "## Financial Data Analysis CSV\n",
    "\n",
    "### Objectives\n",
    "\n",
    "Master the skills required to load, manipulate, analyze, and export CSV data within a Jupyter Notebook environment.\n",
    "\n",
    "#### 1. **Loading CSV Data into Jupyter**:\n",
    "- Use Python's built-in csv module to read data.\n",
    "- Load the CSV data into a DataFrame using the `pandas` library.\n",
    "- Display the first few rows of the dataset to understand its structure.\n",
    "\n",
    "#### 2. **Basic Data Exploration**:\n",
    "- Determine the number of rows and columns in the dataset.\n",
    "- Identify and handle missing values in the dataset.\n",
    "- Obtain summary statistics for numerical columns.\n",
    "\n",
    "#### 3. **Data Manipulation and Cleaning**:\n",
    "- Filter clients based on specific financial criteria.\n",
    "- Modify existing columns, if necessary, to derive new metrics.\n",
    "- Identify and handle duplicate client entries.\n",
    "\n",
    "#### 4. **Data Analysis with CSV Data**:\n",
    "- Group clients by financial advisors and calculate aggregate metrics.\n",
    "- Identify clients with the highest and lowest profits.\n",
    "- Analyze the distribution of clients across different profit ranges.\n",
    "\n",
    "#### 5. **Visualization with CSV Data**:\n",
    "- Plot a bar chart showing the profit distribution across clients.\n",
    "- Visualize the distribution of clients among different financial advisors using a pie chart.\n",
    "\n",
    "#### 6. **Advanced Analysis**:\n",
    "- Analyze correlations between different financial metrics, such as budget allocation and actual profit.\n",
    "- Predict future profits based on historical data using basic regression techniques.\n",
    "\n",
    "#### 7. **Exporting Data**:  \n",
    "- Save the manipulated and analyzed data back to a CSV file.\n",
    "- Export subsets of data, such as top-performing clients, to new CSV files.\n"
   ]
  },
  {
   "cell_type": "markdown",
   "metadata": {},
   "source": [
    "#### Step 1.1: Use Python's built-in csv module to read data."
   ]
  },
  {
   "cell_type": "code",
   "execution_count": 25,
   "metadata": {},
   "outputs": [],
   "source": [
    "import csv\n",
    "\n",
    "# Open the CSV file for reading\n",
    "with open('profitable_clients_sorted_from_json.csv', 'r') as file:\n",
    "    # Create a CSV reader object\n",
    "    csv_reader = csv.reader(file)"
   ]
  },
  {
   "cell_type": "markdown",
   "metadata": {},
   "source": [
    "#### Step 1.2: Load CSV data using the pandas library."
   ]
  },
  {
   "cell_type": "code",
   "execution_count": 26,
   "metadata": {},
   "outputs": [],
   "source": [
    "import pandas as pd\n",
    "\n",
    "# Load the CSV data into a DataFrame\n",
    "df = pd.read_csv('profitable_clients_sorted_from_json.csv')"
   ]
  },
  {
   "cell_type": "markdown",
   "metadata": {},
   "source": [
    "#### Step 1.3: Display the first few rows of the dataset to understand its structure."
   ]
  },
  {
   "cell_type": "code",
   "execution_count": 27,
   "metadata": {},
   "outputs": [
    {
     "data": {
      "text/html": [
       "<div>\n",
       "<style scoped>\n",
       "    .dataframe tbody tr th:only-of-type {\n",
       "        vertical-align: middle;\n",
       "    }\n",
       "\n",
       "    .dataframe tbody tr th {\n",
       "        vertical-align: top;\n",
       "    }\n",
       "\n",
       "    .dataframe thead th {\n",
       "        text-align: right;\n",
       "    }\n",
       "</style>\n",
       "<table border=\"1\" class=\"dataframe\">\n",
       "  <thead>\n",
       "    <tr style=\"text-align: right;\">\n",
       "      <th></th>\n",
       "      <th>ClientID</th>\n",
       "      <th>ClientName</th>\n",
       "      <th>Budget</th>\n",
       "      <th>Expenses</th>\n",
       "      <th>Revenue</th>\n",
       "      <th>Profit</th>\n",
       "      <th>FinancialAdvisor</th>\n",
       "    </tr>\n",
       "  </thead>\n",
       "  <tbody>\n",
       "    <tr>\n",
       "      <th>0</th>\n",
       "      <td>112</td>\n",
       "      <td>Yellow Apple</td>\n",
       "      <td>90000</td>\n",
       "      <td>84500</td>\n",
       "      <td>73000</td>\n",
       "      <td>49000.0</td>\n",
       "      <td>Hank Yellow</td>\n",
       "    </tr>\n",
       "    <tr>\n",
       "      <th>1</th>\n",
       "      <td>111</td>\n",
       "      <td>Orange Mango</td>\n",
       "      <td>92000</td>\n",
       "      <td>84000</td>\n",
       "      <td>143000</td>\n",
       "      <td>41000.0</td>\n",
       "      <td>Frank Black</td>\n",
       "    </tr>\n",
       "    <tr>\n",
       "      <th>2</th>\n",
       "      <td>102</td>\n",
       "      <td>Beta Inc</td>\n",
       "      <td>75000</td>\n",
       "      <td>50000</td>\n",
       "      <td>90000</td>\n",
       "      <td>40000.0</td>\n",
       "      <td>Bob Smith</td>\n",
       "    </tr>\n",
       "    <tr>\n",
       "      <th>3</th>\n",
       "      <td>104</td>\n",
       "      <td>Delta Co</td>\n",
       "      <td>85000</td>\n",
       "      <td>70000</td>\n",
       "      <td>110000</td>\n",
       "      <td>40000.0</td>\n",
       "      <td>Dave Brown</td>\n",
       "    </tr>\n",
       "    <tr>\n",
       "      <th>4</th>\n",
       "      <td>110</td>\n",
       "      <td>Juliet Co</td>\n",
       "      <td>99000</td>\n",
       "      <td>94000</td>\n",
       "      <td>130000</td>\n",
       "      <td>36000.0</td>\n",
       "      <td>Jack Violet</td>\n",
       "    </tr>\n",
       "  </tbody>\n",
       "</table>\n",
       "</div>"
      ],
      "text/plain": [
       "   ClientID    ClientName  Budget  Expenses  Revenue   Profit FinancialAdvisor\n",
       "0       112  Yellow Apple   90000     84500    73000  49000.0      Hank Yellow\n",
       "1       111  Orange Mango   92000     84000   143000  41000.0      Frank Black\n",
       "2       102      Beta Inc   75000     50000    90000  40000.0        Bob Smith\n",
       "3       104      Delta Co   85000     70000   110000  40000.0       Dave Brown\n",
       "4       110     Juliet Co   99000     94000   130000  36000.0      Jack Violet"
      ]
     },
     "execution_count": 27,
     "metadata": {},
     "output_type": "execute_result"
    }
   ],
   "source": [
    "# Display the first few rows of the DataFrame\n",
    "df.head()"
   ]
  },
  {
   "cell_type": "markdown",
   "metadata": {},
   "source": [
    "### Step 2: Basic Data Exploration"
   ]
  },
  {
   "cell_type": "markdown",
   "metadata": {},
   "source": [
    "#### Step 2.1: Determine the number of rows and columns in the dataset."
   ]
  },
  {
   "cell_type": "code",
   "execution_count": 28,
   "metadata": {},
   "outputs": [
    {
     "name": "stdout",
     "output_type": "stream",
     "text": [
      "The dataset has 13 rows and 7 columns.\n"
     ]
    }
   ],
   "source": [
    "# Assuming you've already loaded your data into a DataFrame named 'df'\n",
    "shape = df.shape\n",
    "print(f\"The dataset has {shape[0]} rows and {shape[1]} columns.\")"
   ]
  },
  {
   "cell_type": "markdown",
   "metadata": {},
   "source": [
    "#### Step 2.2: Identify and handle missing values in the dataset."
   ]
  },
  {
   "cell_type": "code",
   "execution_count": 29,
   "metadata": {},
   "outputs": [
    {
     "name": "stdout",
     "output_type": "stream",
     "text": [
      "Number of missing values for each column:\n",
      "ClientID            0\n",
      "ClientName          0\n",
      "Budget              0\n",
      "Expenses            0\n",
      "Revenue             0\n",
      "Profit              2\n",
      "FinancialAdvisor    0\n",
      "dtype: int64\n",
      "\n",
      "Missing values after handling:\n",
      "ClientID            0\n",
      "ClientName          0\n",
      "Budget              0\n",
      "Expenses            0\n",
      "Revenue             0\n",
      "Profit              0\n",
      "FinancialAdvisor    0\n",
      "dtype: int64\n"
     ]
    }
   ],
   "source": [
    "# Identify columns with missing values\n",
    "missing_values = df.isnull().sum()\n",
    "print(\"Number of missing values for each column:\")\n",
    "print(missing_values)\n",
    "\n",
    "# Handle missing values\n",
    "# For this dataset, we'll calculate the Profit as (Revenue - Expenses) for the missing values.\n",
    "df['Profit'].fillna(df['Revenue'] - df['Expenses'], inplace=True)\n",
    "\n",
    "print(\"\\nMissing values after handling:\")\n",
    "print(df.isnull().sum())\n",
    "\n"
   ]
  },
  {
   "cell_type": "markdown",
   "metadata": {},
   "source": [
    "#### Step 2.3: Obtain summary statistics for numerical columns."
   ]
  },
  {
   "cell_type": "code",
   "execution_count": 36,
   "metadata": {},
   "outputs": [
    {
     "name": "stdout",
     "output_type": "stream",
     "text": [
      "\n",
      "Summary statistics for numerical columns:\n",
      "\n",
      "       ClientID   Budget  Expenses   Revenue   Profit\n",
      "count      13.0     13.0      13.0      13.0     13.0\n",
      "mean      120.7  76153.8   73719.2   92384.6  34242.3\n",
      "std        51.3  24922.7   27551.7   43444.5  10316.9\n",
      "min       101.0   9000.0     850.0    5000.0   4150.0\n",
      "25%       104.0  70000.0   70000.0   80000.0  35000.0\n",
      "50%       107.0  85000.0   84500.0  105000.0  35000.0\n",
      "75%       110.0  92000.0   90000.0  120000.0  40000.0\n",
      "max       291.0  99000.0  105000.0  143000.0  49000.0\n"
     ]
    }
   ],
   "source": [
    "# Obtain summary statistics and round to 2 decimal places\n",
    "summary_statistics = df.describe().round(1)\n",
    "print(\"\\nSummary statistics for numerical columns:\\n\")\n",
    "print(summary_statistics)\n"
   ]
  },
  {
   "cell_type": "markdown",
   "metadata": {},
   "source": [
    "### Step 3: Data Manipulation and Cleaning\n",
    "\n",
    "#### Step 3.1: Filter clients based on specific financial criteria."
   ]
  },
  {
   "cell_type": "code",
   "execution_count": 8,
   "metadata": {},
   "outputs": [
    {
     "name": "stdout",
     "output_type": "stream",
     "text": [
      "Unique Financial Advisors:\n",
      "Ivy Red\n",
      "Hank Yellow\n",
      "Eve Green\n",
      "Bob Smith\n",
      "Alice Johnson\n",
      "Carol White\n",
      "Dave Brown\n",
      "Frank Black\n",
      "Grace Blue\n",
      "Jack Violet\n"
     ]
    }
   ],
   "source": [
    "# Initialize an empty set to store unique financial advisors\n",
    "unique_advisors = set()\n",
    "\n",
    "# Loop through each client's data to add the advisor's name to the set\n",
    "for client in financial_data:\n",
    "    unique_advisors.add(client['FinancialAdvisor'])\n",
    "\n",
    "print(\"Unique Financial Advisors:\")\n",
    "for advisor in unique_advisors:\n",
    "    print(advisor)\n"
   ]
  },
  {
   "cell_type": "markdown",
   "metadata": {},
   "source": [
    "#### Step 3.2: Determine the Number of Clients Each Advisor Handles"
   ]
  },
  {
   "cell_type": "code",
   "execution_count": 9,
   "metadata": {},
   "outputs": [
    {
     "name": "stdout",
     "output_type": "stream",
     "text": [
      "Number of Clients Each Advisor Handles:\n",
      "Alice Johnson: 1 clients\n",
      "Bob Smith: 1 clients\n",
      "Carol White: 1 clients\n",
      "Dave Brown: 1 clients\n",
      "Eve Green: 1 clients\n",
      "Frank Black: 2 clients\n",
      "Grace Blue: 1 clients\n",
      "Hank Yellow: 2 clients\n",
      "Ivy Red: 1 clients\n",
      "Jack Violet: 1 clients\n"
     ]
    }
   ],
   "source": [
    "# Initialize an empty dictionary to store the count of clients each advisor handles\n",
    "advisor_counts = {}\n",
    "\n",
    "# Loop through each client's data to update the count for each advisor\n",
    "for client in financial_data:\n",
    "    advisor = client['FinancialAdvisor']\n",
    "    if advisor in advisor_counts:\n",
    "        advisor_counts[advisor] += 1\n",
    "    else:\n",
    "        advisor_counts[advisor] = 1\n",
    "\n",
    "print(\"Number of Clients Each Advisor Handles:\")\n",
    "for advisor, count in advisor_counts.items():\n",
    "    print(f\"{advisor}: {count} clients\")\n"
   ]
  },
  {
   "cell_type": "markdown",
   "metadata": {},
   "source": [
    "#### Step 3.3: Identify the Advisor Managing the Client with the Highest Profit"
   ]
  },
  {
   "cell_type": "code",
   "execution_count": 10,
   "metadata": {},
   "outputs": [
    {
     "name": "stdout",
     "output_type": "stream",
     "text": [
      "Advisor Managing the Client with the Highest Profit: Hank Yellow\n"
     ]
    }
   ],
   "source": [
    "# Initialize variables to store the highest profit value and corresponding advisor's name\n",
    "highest_profit = float('-inf')  # Start with a very low value\n",
    "advisor_highest_profit = \"\"\n",
    "\n",
    "# Loop through each client's data to find the highest profit and corresponding advisor\n",
    "for client in financial_data:\n",
    "    if client['Profit'] > highest_profit:\n",
    "        highest_profit = client['Profit']\n",
    "        advisor_highest_profit = client['FinancialAdvisor']\n",
    "\n",
    "print(f\"Advisor Managing the Client with the Highest Profit: {advisor_highest_profit}\")\n"
   ]
  },
  {
   "cell_type": "markdown",
   "metadata": {},
   "source": [
    "### Step 4: Budget analysis\n",
    "\n",
    "#### Step 4.1: Identify Clients Whose Actual Expenses Exceeded Their Budget\n"
   ]
  },
  {
   "cell_type": "code",
   "execution_count": 11,
   "metadata": {},
   "outputs": [
    {
     "name": "stdout",
     "output_type": "stream",
     "text": [
      "Clients Whose Expenses Exceeded Their Budget:\n",
      "Acme Corp\n",
      "Foxtrot Enterprises\n"
     ]
    }
   ],
   "source": [
    "# List to store clients whose expenses exceeded their budget\n",
    "over_budget_clients = []\n",
    "\n",
    "# Loop through each client's data\n",
    "for client in financial_data:\n",
    "    if client['Expenses'] > client['Budget']:\n",
    "        over_budget_clients.append(client['ClientName'])\n",
    "\n",
    "print(\"Clients Whose Expenses Exceeded Their Budget:\")\n",
    "for client_name in over_budget_clients:\n",
    "    print(client_name)\n"
   ]
  },
  {
   "cell_type": "markdown",
   "metadata": {},
   "source": [
    "#### Step 4.2: Determine the Total Amount by Which the Budget Was Exceeded for These Clients"
   ]
  },
  {
   "cell_type": "code",
   "execution_count": 12,
   "metadata": {},
   "outputs": [
    {
     "name": "stdout",
     "output_type": "stream",
     "text": [
      "Total Amount by Which the Budget Was Exceeded: $75000\n"
     ]
    }
   ],
   "source": [
    "# Variable to store the total amount by which the budget was exceeded\n",
    "total_over_budget = 0\n",
    "\n",
    "# Loop through each client's data\n",
    "for client in financial_data:\n",
    "    if client['Expenses'] > client['Budget']:\n",
    "        total_over_budget += (client['Expenses'] - client['Budget'])\n",
    "\n",
    "print(f\"Total Amount by Which the Budget Was Exceeded: ${total_over_budget}\")\n"
   ]
  },
  {
   "cell_type": "markdown",
   "metadata": {},
   "source": [
    "### Step 5: Profit Margin Analysis\n",
    "\n",
    "#### Step 5.1: Calculate the Profit Margin for Each Client"
   ]
  },
  {
   "cell_type": "code",
   "execution_count": 13,
   "metadata": {},
   "outputs": [
    {
     "name": "stdout",
     "output_type": "stream",
     "text": [
      "[{'ClientName': 'Acme Corp', 'ProfitMargin': 700.0}, {'ClientName': 'Beta Inc', 'ProfitMargin': 44.44444444444444}, {'ClientName': 'Charlie LLC', 'ProfitMargin': 43.75}, {'ClientName': 'Delta Co', 'ProfitMargin': 36.36363636363637}, {'ClientName': 'Echo Ltd', 'ProfitMargin': 29.166666666666668}, {'ClientName': 'Foxtrot Enterprises', 'ProfitMargin': 35.0}, {'ClientName': 'Golf Corp', 'ProfitMargin': 28.57142857142857}, {'ClientName': 'Hotel Inc', 'ProfitMargin': 26.08695652173913}, {'ClientName': 'India LLC', 'ProfitMargin': 28.000000000000004}, {'ClientName': 'Juliet Co', 'ProfitMargin': 27.692307692307693}, {'ClientName': 'Orange Mango', 'ProfitMargin': 28.671328671328673}, {'ClientName': 'Yellow Apple', 'ProfitMargin': 67.12328767123287}]\n"
     ]
    }
   ],
   "source": [
    "# List to store profit margins for each client\n",
    "profit_margins = []\n",
    "\n",
    "# Loop through each client's data\n",
    "for client in financial_data:\n",
    "    profit_margin = (client['Profit'] / client['Revenue']) * 100\n",
    "    profit_margins.append({\n",
    "        'ClientName': client['ClientName'],\n",
    "        'ProfitMargin': profit_margin\n",
    "    })\n",
    "\n",
    "print(profit_margins)"
   ]
  },
  {
   "cell_type": "markdown",
   "metadata": {},
   "source": [
    "#### Step 5.2: Rank Clients Based on Their Profit Margins"
   ]
  },
  {
   "cell_type": "code",
   "execution_count": 14,
   "metadata": {},
   "outputs": [
    {
     "name": "stdout",
     "output_type": "stream",
     "text": [
      "Clients Ranked by Profit Margins (Highest to Lowest):\n",
      "Acme Corp: 700.00%\n",
      "Yellow Apple: 67.12%\n",
      "Beta Inc: 44.44%\n",
      "Charlie LLC: 43.75%\n",
      "Delta Co: 36.36%\n",
      "Foxtrot Enterprises: 35.00%\n",
      "Echo Ltd: 29.17%\n",
      "Orange Mango: 28.67%\n",
      "Golf Corp: 28.57%\n",
      "India LLC: 28.00%\n",
      "Juliet Co: 27.69%\n",
      "Hotel Inc: 26.09%\n"
     ]
    }
   ],
   "source": [
    "# Sort the clients based on profit margins in descending order\n",
    "ranked_clients = sorted(profit_margins, key=lambda x: x['ProfitMargin'], reverse=True)\n",
    "\n",
    "print(\"Clients Ranked by Profit Margins (Highest to Lowest):\")\n",
    "for client in ranked_clients:\n",
    "    print(f\"{client['ClientName']}: {client['ProfitMargin']:.2f}%\")\n"
   ]
  },
  {
   "cell_type": "markdown",
   "metadata": {},
   "source": [
    "### Step 6: Visualization\n",
    "\n",
    "#### Step 6.1: Plot a Bar Chart Showing the Profit of Each Client"
   ]
  },
  {
   "cell_type": "code",
   "execution_count": 15,
   "metadata": {},
   "outputs": [
    {
     "data": {
      "image/png": "[encoded data removed]",
      "text/plain": [
       "<Figure size 1200x600 with 1 Axes>"
      ]
     },
     "metadata": {},
     "output_type": "display_data"
    }
   ],
   "source": [
    "# !pip install matplotlib\n",
    "import matplotlib.pyplot as plt\n",
    "\n",
    "# Extract client names and their profits\n",
    "client_names = [client['ClientName'] for client in financial_data]\n",
    "profits = [client['Profit'] for client in financial_data]\n",
    "\n",
    "# Plotting\n",
    "plt.figure(figsize=(12, 6))\n",
    "plt.bar(client_names, profits, color='skyblue')\n",
    "plt.xlabel('Client Name')\n",
    "plt.ylabel('Profit')\n",
    "plt.title('Profit of Each Client')\n",
    "plt.xticks(rotation=45)\n",
    "plt.tight_layout()\n",
    "plt.show()\n"
   ]
  },
  {
   "cell_type": "markdown",
   "metadata": {},
   "source": [
    "#### Step 6.2: Plot a Pie Chart Showing the Distribution of Clients Among Different Financial Advisors\n"
   ]
  },
  {
   "cell_type": "code",
   "execution_count": 16,
   "metadata": {},
   "outputs": [
    {
     "data": {
      "image/png": "[encoded data removed]",
      "text/plain": [
       "<Figure size 1000x700 with 1 Axes>"
      ]
     },
     "metadata": {},
     "output_type": "display_data"
    }
   ],
   "source": [
    "from collections import Counter\n",
    "\n",
    "advisor_names = [client['FinancialAdvisor'] for client in financial_data]\n",
    "advisor_counts = Counter(advisor_names)\n",
    "\n",
    "# Extracting data for pie chart\n",
    "labels = list(advisor_counts.keys())\n",
    "sizes = list(advisor_counts.values())\n",
    "\n",
    "# Plotting\n",
    "plt.figure(figsize=(10, 7))\n",
    "plt.pie(sizes, labels=labels, autopct='%1.1f%%', startangle=140, colors=plt.cm.Paired.colors)\n",
    "plt.title('Distribution of Clients Among Financial Advisors')\n",
    "plt.show()\n"
   ]
  },
  {
   "cell_type": "markdown",
   "metadata": {},
   "source": [
    "### Step 6: Advanced analysis\n",
    "\n",
    "#### Step 6.1: Group clients based on profit ranges and determine the number of clients in each range"
   ]
  },
  {
   "cell_type": "code",
   "execution_count": 17,
   "metadata": {},
   "outputs": [
    {
     "name": "stdout",
     "output_type": "stream",
     "text": [
      "defaultdict(<class 'int'>, {'30k-40k': 8, '40k+': 4})\n"
     ]
    }
   ],
   "source": [
    "from collections import defaultdict\n",
    "\n",
    "# Define profit ranges\n",
    "profit_ranges = {\n",
    "    \"0-10k\": (0, 10000),\n",
    "    \"10k-20k\": (10000, 20000),\n",
    "    \"20k-30k\": (20000, 30000),\n",
    "    \"30k-40k\": (30000, 40000),\n",
    "    \"40k+\": (40000, float('inf'))\n",
    "}\n",
    "\n",
    "# Categorize clients into profit ranges\n",
    "profit_bins = defaultdict(int)\n",
    "\n",
    "for client in financial_data:\n",
    "    profit = client['Profit']\n",
    "    for range_name, (low, high) in profit_ranges.items():\n",
    "        if low <= profit < high:\n",
    "            profit_bins[range_name] += 1\n",
    "            break\n",
    "\n",
    "print(profit_bins)\n"
   ]
  },
  {
   "cell_type": "markdown",
   "metadata": {},
   "source": [
    "#### Step 6.2: Identify any correlations between budget allocation and actual profit\n"
   ]
  },
  {
   "cell_type": "code",
   "execution_count": 18,
   "metadata": {},
   "outputs": [
    {
     "name": "stdout",
     "output_type": "stream",
     "text": [
      "Correlation Coefficient between Budget and Profit: 0.17\n"
     ]
    }
   ],
   "source": [
    "import numpy as np\n",
    "\n",
    "budgets = [client['Budget'] for client in financial_data]\n",
    "profits = [client['Profit'] for client in financial_data]\n",
    "\n",
    "correlation_coefficient = np.corrcoef(budgets, profits)[0, 1]\n",
    "\n",
    "print(f\"Correlation Coefficient between Budget and Profit: {correlation_coefficient:.2f}\")\n"
   ]
  },
  {
   "cell_type": "markdown",
   "metadata": {},
   "source": [
    "#### Step 6.3: Predict the next year's profit for each client based on their current data"
   ]
  },
  {
   "cell_type": "code",
   "execution_count": 19,
   "metadata": {},
   "outputs": [
    {
     "name": "stdout",
     "output_type": "stream",
     "text": [
      "Acme Corp next year prediction: $34966.71\n",
      "Beta Inc next year prediction: $36370.88\n",
      "Charlie LLC next year prediction: $35528.38\n",
      "Delta Co next year prediction: $36932.54\n",
      "Echo Ltd next year prediction: $37494.21\n",
      "Foxtrot Enterprises next year prediction: $36090.04\n",
      "Golf Corp next year prediction: $36651.71\n",
      "Hotel Inc next year prediction: $37213.37\n",
      "India LLC next year prediction: $37494.21\n",
      "Juliet Co next year prediction: $37718.87\n",
      "Orange Mango next year prediction: $37325.71\n",
      "Yellow Apple next year prediction: $37213.37\n"
     ]
    }
   ],
   "source": [
    "from sklearn.linear_model import LinearRegression\n",
    "\n",
    "# Reshape data for scikit-learn\n",
    "X = np.array(budgets).reshape(-1, 1)\n",
    "y = np.array(profits)\n",
    "\n",
    "# Train a linear regression model\n",
    "# The LinearRegression() function creates a new linear regression model.\n",
    "# Linear regression is a statistical method that models the relationship between a dependent variable and one or more independent variables by fitting a linear equation to the observed data.\n",
    "\n",
    "# The `.fit(X, y)` method trains the linear regression model using the provided data.\n",
    "# `X` is the independent variable (or variables, in the case of multiple regression). In our case, it's the budget.\n",
    "# `y` is the dependent variable we're trying to predict, which is the profit in our scenario.\n",
    "\n",
    "# Once the model is trained with `.fit()`, it can be used to make predictions on new data using the `.predict()` method.\n",
    "\n",
    "model = LinearRegression().fit(X, y)  # Create and train a linear regression model using the budgets (X) to predict profits (y).\n",
    "\n",
    "# Predict next year's profit\n",
    "predicted_profits = model.predict(X)\n",
    "\n",
    "for client_name, predicted_profit in zip(client_names, predicted_profits):\n",
    "    print(f\"{client_name} next year prediction: ${predicted_profit:.2f}\")\n"
   ]
  },
  {
   "cell_type": "markdown",
   "metadata": {},
   "source": [
    "### 8 Data Export\n",
    "\n",
    "#### Step 8.1: Save the analyzed data, including any new columns or calculations, into a new JSON file.\n"
   ]
  },
  {
   "cell_type": "code",
   "execution_count": 20,
   "metadata": {},
   "outputs": [],
   "source": [
    "with open('analyzed_data.json', 'w') as file:\n",
    "    json.dump({\"FinancialData\": financial_data}, file)"
   ]
  },
  {
   "cell_type": "markdown",
   "metadata": {},
   "source": [
    "#### Step 8.2: Export a subset of the data (e.g., top 5 profitable clients) into a CSV file."
   ]
  },
  {
   "cell_type": "code",
   "execution_count": 22,
   "metadata": {},
   "outputs": [],
   "source": [
    "import csv\n",
    "\n",
    "# Sort the data based on profit in descending order\n",
    "top_clients = sorted(financial_data, key=lambda x: x['Profit'], reverse=True)[:]\n",
    "\n",
    "# Write the top clients to a CSV file\n",
    "with open('profitable_clients_sorted_from_json.csv', 'w', newline='') as file:\n",
    "    writer = csv.DictWriter(file, fieldnames=top_clients[0].keys())\n",
    "    writer.writeheader()\n",
    "    for client in top_clients:\n",
    "        writer.writerow(client)"
   ]
  },
  {
   "cell_type": "code",
   "execution_count": null,
   "metadata": {},
   "outputs": [],
   "source": []
  }
 ],
 "metadata": {
  "kernelspec": {
   "display_name": "Python 3",
   "language": "python",
   "name": "python3"
  },
  "language_info": {
   "codemirror_mode": {
    "name": "ipython",
    "version": 3
   },
   "file_extension": ".py",
   "mimetype": "text/x-python",
   "name": "python",
   "nbconvert_exporter": "python",
   "pygments_lexer": "ipython3",
   "version": "3.8.3"
  }
 },
 "nbformat": 4,
 "nbformat_minor": 4
}
