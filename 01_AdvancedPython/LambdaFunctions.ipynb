{
 "cells": [
  {
   "cell_type": "markdown",
   "metadata": {},
   "source": [
    "### Lambda functions"
   ]
  },
  {
   "cell_type": "markdown",
   "metadata": {},
   "source": [
    "#### Lambda Functions\n",
    "In mathematics and computer science, the term \"lambda\" is used to denote anonymous functions or functions without a name. In Python, the lambda keyword is used to create small, anonymous functions. These are functions that are defined without a name.\n",
    "\n",
    "#### Why use Lambda Functions?\n",
    "Lambda functions are useful when you need a simple function for a short period and do not want to formally define it using the standard def keyword. They are often used for short operations that can be described with a single statement.\n",
    "\n",
    "#### Syntax of Lambda Functions:\n",
    "The general syntax of a lambda function is:\n",
    "\n",
    "```lambda arguments: expression```"
   ]
  },
  {
   "cell_type": "code",
   "execution_count": 1,
   "metadata": {},
   "outputs": [
    {
     "name": "stdout",
     "output_type": "stream",
     "text": [
      "8\n"
     ]
    }
   ],
   "source": [
    "add = lambda x, y: x + y\n",
    "print(add(5, 3))  # Outputs: 8\n"
   ]
  },
  {
   "cell_type": "code",
   "execution_count": 2,
   "metadata": {},
   "outputs": [
    {
     "name": "stdout",
     "output_type": "stream",
     "text": [
      "True\n",
      "False\n"
     ]
    }
   ],
   "source": [
    "is_even = lambda x: x % 2 == 0\n",
    "print(is_even(4))  # Outputs: True\n",
    "print(is_even(7))  # Outputs: False\n"
   ]
  },
  {
   "cell_type": "code",
   "execution_count": 3,
   "metadata": {},
   "outputs": [
    {
     "name": "stdout",
     "output_type": "stream",
     "text": [
      "15\n"
     ]
    }
   ],
   "source": [
    "# Return the maximum of two values\n",
    "maximum = lambda x, y: x if x > y else y\n",
    "print(maximum(10, 15))  # Outputs: 15\n"
   ]
  },
  {
   "cell_type": "markdown",
   "metadata": {},
   "source": [
    "##### Key Points to Remember:\n",
    "- Lambda functions can have any number of arguments but only one expression.\n",
    "- They cannot contain multiple expressions or statements.\n",
    "- They are generally used for simple operations that can be condensed into a single line.\n",
    "- Lambda functions are limited in their complexity and are not as versatile as regular functions defined with def.\n",
    "\n",
    "#### When to use Lambda Functions?\n",
    "Lambda functions are best suited for situations where you need a simple function for a short duration and don't want to go through the hassle of defining a full function. They are commonly used with functions like `map()`, `filter()`, and `sorted()`."
   ]
  },
  {
   "cell_type": "code",
   "execution_count": 4,
   "metadata": {},
   "outputs": [
    {
     "name": "stdout",
     "output_type": "stream",
     "text": [
      "[-2, 3, -5, 8, -10]\n"
     ]
    }
   ],
   "source": [
    "numbers = [-5, -2, 8, 3, -10]\n",
    "sorted_numbers = sorted(numbers, key=lambda x: abs(x))\n",
    "print(sorted_numbers)  # Outputs: [-2, 3, -5, 8, -10]\n"
   ]
  },
  {
   "cell_type": "markdown",
   "metadata": {},
   "source": [
    "Lambda functions are a powerful feature in Python that allows for the creation of quick, throwaway functions without the need for formal definitions. They are concise and can make code more readable when used appropriately. However, for more complex operations or functionalities, it's often better to use regular functions for clarity."
   ]
  }
 ],
 "metadata": {
  "kernelspec": {
   "display_name": "Python 3",
   "language": "python",
   "name": "python3"
  },
  "language_info": {
   "codemirror_mode": {
    "name": "ipython",
    "version": 3
   },
   "file_extension": ".py",
   "mimetype": "text/x-python",
   "name": "python",
   "nbconvert_exporter": "python",
   "pygments_lexer": "ipython3",
   "version": "3.8.3"
  }
 },
 "nbformat": 4,
 "nbformat_minor": 4
}
