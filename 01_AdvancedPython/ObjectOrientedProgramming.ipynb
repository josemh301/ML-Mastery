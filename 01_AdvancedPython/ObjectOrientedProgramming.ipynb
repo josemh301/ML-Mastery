{
 "cells": [
  {
   "cell_type": "markdown",
   "metadata": {},
   "source": [
    "## Object-Oriented Programming (OOP) in Python\n",
    "\n",
    "\n",
    "Object-Oriented Programming (OOP) is a programming paradigm that uses \"objects\" to design applications and software. These objects represent real-world entities and the interactions between them. Python, being a multi-paradigm language, supports OOP alongside other paradigms.\n",
    "\n",
    "#### 1. Classes and Objects\n",
    "\n",
    "- **Class**: A blueprint for creating objects. It defines attributes and methods that the created objects possess.\n",
    "- **Object**: An instance of a class."
   ]
  },
  {
   "cell_type": "code",
   "execution_count": 1,
   "metadata": {},
   "outputs": [
    {
     "name": "stdout",
     "output_type": "stream",
     "text": [
      "Buddy is barking!\n"
     ]
    }
   ],
   "source": [
    "class Dog:\n",
    "    def __init__(self, name, age):\n",
    "        self.name = name\n",
    "        self.age = age\n",
    "\n",
    "    def bark(self):\n",
    "        print(f\"{self.name} is barking!\")\n",
    "\n",
    "# Creating an object of the Dog class\n",
    "dog1 = Dog(\"Buddy\", 3)\n",
    "dog1.bark()  # Output: Buddy is barking!"
   ]
  },
  {
   "cell_type": "markdown",
   "metadata": {},
   "source": [
    "```python\n",
    "class Dog:\n",
    "```\n",
    "This line defines a new class named `Dog`. In object-oriented programming, a class can be thought of as a blueprint for creating objects (specific instances of the class).\n",
    "\n",
    "---\n",
    "\n",
    "```python\n",
    "    def __init__(self, name, age):\n",
    "        self.name = name\n",
    "        self.age = age\n",
    "```\n",
    "This is the constructor method for the `Dog` class. When you create an instance of the `Dog` class, this method is automatically called. \n",
    "\n",
    "- The `self` parameter refers to the instance of the class (i.e., the object being created). \n",
    "- The `name` and `age` parameters are passed when creating a new `Dog` object.\n",
    "- Inside the constructor, `self.name = name` and `self.age = age` set the `name` and `age` attributes of the object to the values passed in.\n",
    "\n",
    "---\n",
    "\n",
    "```python\n",
    "    def bark(self):\n",
    "        print(f\"{self.name} is barking!\")\n",
    "```\n",
    "This defines a method named `bark` for the `Dog` class. When called on a `Dog` object, this method will print a message indicating that the dog (with its specific name) is barking. The `f\"{self.name} is barking!\"` is an f-string in Python, which allows for embedding expressions inside string literals.\n",
    "\n",
    "---\n",
    "\n",
    "```python\n",
    "# Creating an object of the Dog class\n",
    "dog1 = Dog(\"Buddy\", 3)\n",
    "```\n",
    "Here, an instance (or object) of the `Dog` class is being created. The `Dog` class is being called with the arguments `\"Buddy\"` (for the `name`) and `3` (for the `age`). This will invoke the `__init__` method in the `Dog` class, setting the `name` attribute of `dog1` to `\"Buddy\"` and the `age` attribute to `3`.\n",
    "\n",
    "---\n",
    "\n",
    "```python\n",
    "dog1.bark()  # Output: Buddy is barking!\n",
    "```\n",
    "This line calls the `bark` method on the `dog1` object. Since the `name` attribute of `dog1` is set to `\"Buddy\"`, the output will be: `Buddy is barking!`.\n",
    "\n",
    "---\n",
    "\n",
    "In summary, the code defines a `Dog` class with attributes for `name` and `age` and a method to simulate the dog barking. An instance of the class is then created with the name `\"Buddy\"` and age `3`, and the `bark` method is called on this instance.\n",
    "```\n"
   ]
  },
  {
   "cell_type": "markdown",
   "metadata": {},
   "source": [
    "#### 2. Inheritance\n",
    "\n",
    "Inheritance allows a class to inherit attributes and methods from another class.\n",
    "\n",
    "- **Parent class (Base class)**: The class being inherited from.\n",
    "- **Child class (Derived class)**: The class that inherits from another class."
   ]
  },
  {
   "cell_type": "code",
   "execution_count": 2,
   "metadata": {},
   "outputs": [
    {
     "name": "stdout",
     "output_type": "stream",
     "text": [
      "Meow\n"
     ]
    }
   ],
   "source": [
    "class Animal:\n",
    "    def __init__(self, species):\n",
    "        self.species = species\n",
    "\n",
    "    def make_sound(self):\n",
    "        print(\"Some generic sound\")\n",
    "\n",
    "class Cat(Animal):\n",
    "    def make_sound(self):\n",
    "        print(\"Meow\")\n",
    "\n",
    "# Using the child class\n",
    "whiskers = Cat(\"Feline\")\n",
    "whiskers.make_sound()  # Output: Meow"
   ]
  },
  {
   "cell_type": "markdown",
   "metadata": {},
   "source": [
    "#### 3. Encapsulation\n",
    "\n",
    "Encapsulation restricts access to certain components of an object, preventing accidental modification."
   ]
  },
  {
   "cell_type": "code",
   "execution_count": 3,
   "metadata": {},
   "outputs": [],
   "source": [
    "class BankAccount:\n",
    "    def __init__(self, balance=0):\n",
    "        self.__balance = balance\n",
    "\n",
    "    def deposit(self, amount):\n",
    "        self.__balance += amount\n",
    "\n",
    "    def withdraw(self, amount):\n",
    "        if amount > self.__balance:\n",
    "            print(\"Insufficient funds!\")\n",
    "        else:\n",
    "            self.__balance -= amount\n",
    "\n",
    "    def get_balance(self):\n",
    "        return self.__balance"
   ]
  },
  {
   "cell_type": "markdown",
   "metadata": {},
   "source": [
    "#### 4. Polymorphism\n",
    "\n",
    "Polymorphism allows objects of different classes to be treated as objects of a common superclass."
   ]
  },
  {
   "cell_type": "code",
   "execution_count": 4,
   "metadata": {},
   "outputs": [
    {
     "name": "stdout",
     "output_type": "stream",
     "text": [
      "Most of the birds can fly.\n",
      "Sparrows can fly.\n",
      "Ostriches cannot fly.\n"
     ]
    }
   ],
   "source": [
    "class Bird:\n",
    "    def intro(self):\n",
    "        print(\"There are many types of birds.\")\n",
    "\n",
    "    def flight(self):\n",
    "        print(\"Most of the birds can fly.\")\n",
    "\n",
    "class Sparrow(Bird):\n",
    "    def flight(self):\n",
    "        print(\"Sparrows can fly.\")\n",
    "\n",
    "class Ostrich(Bird):\n",
    "    def flight(self):\n",
    "        print(\"Ostriches cannot fly.\")\n",
    "\n",
    "bird = Bird()\n",
    "sparrow = Sparrow()\n",
    "ostrich = Ostrich()\n",
    "\n",
    "bird.flight()\n",
    "sparrow.flight()\n",
    "ostrich.flight()"
   ]
  }
 ],
 "metadata": {
  "kernelspec": {
   "display_name": "Python 3",
   "language": "python",
   "name": "python3"
  },
  "language_info": {
   "codemirror_mode": {
    "name": "ipython",
    "version": 3
   },
   "file_extension": ".py",
   "mimetype": "text/x-python",
   "name": "python",
   "nbconvert_exporter": "python",
   "pygments_lexer": "ipython3",
   "version": "3.8.3"
  }
 },
 "nbformat": 4,
 "nbformat_minor": 4
}
