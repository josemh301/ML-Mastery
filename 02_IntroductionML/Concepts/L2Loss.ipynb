{
 "cells": [
  {
   "cell_type": "markdown",
   "metadata": {},
   "source": [
    "# L2 Loss\n",
    "### Fundamentals\n",
    "A loss function that calculates the square of the difference between actual label values and the values that a model predicts. For example, here's the calculation of L2 loss for a batch of five examples:\n",
    "\n",
    "| Actual value (a)        | Predicted value (b)     | (a-b)^2         |\n",
    "|-------------------------|-------------------------|-----------------|\n",
    "| 7                       | 6                       | 1               |\n",
    "| 5                       | 4                       | 1               |\n",
    "| 8                       | 11                      | 9               |\n",
    "| 4                       | 6                       | 4               |\n",
    "| 9                       | 8                       | 1               |\n",
    "| 9                       | 8                       | 1               |\n",
    "|                         |                         | All   (a-b)^2 = |\n",
    "|                         |                         |**16 = L2 loss** |\n",
    "\n",
    "Due to squaring, L2 loss amplifies the influence of outliers. That is, L2 loss reacts more strongly to bad predictions than L1 loss. For example, the L1 loss for the preceding batch would be 8 rather than 16. Notice that a single outlier accounts for 9 of the 16.\n",
    "\n",
    "Regression models typically use L2 loss as the loss function.\n",
    "\n",
    "The Mean Squared Error (MSE) is the average L2 loss per example, and its formula.\n",
    "\n",
    "Squared loss is another name for L2 loss.\n",
    "\n",
    "where:\n",
    "- \\( n \\) is the number of examples.\n",
    "- \\( y_i \\) is the actual value of the label for the \\( i^{th} \\) example.\n",
    "- \\( \\hat{y}_i \\) is the value that the model predicts for the \\( i^{th} \\) example.\n"
   ]
  },
  {
   "cell_type": "code",
   "execution_count": null,
   "metadata": {},
   "outputs": [],
   "source": []
  },
  {
   "cell_type": "code",
   "execution_count": null,
   "metadata": {},
   "outputs": [],
   "source": []
  }
 ],
 "metadata": {
  "kernelspec": {
   "display_name": "Python 3",
   "language": "python",
   "name": "python3"
  },
  "language_info": {
   "codemirror_mode": {
    "name": "ipython",
    "version": 3
   },
   "file_extension": ".py",
   "mimetype": "text/x-python",
   "name": "python",
   "nbconvert_exporter": "python",
   "pygments_lexer": "ipython3",
   "version": "3.8.3"
  }
 },
 "nbformat": 4,
 "nbformat_minor": 4
}
