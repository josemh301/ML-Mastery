{
 "cells": [
  {
   "cell_type": "markdown",
   "metadata": {},
   "source": [
    "# L2 Loss\n",
    "### Fundamentals\n",
    "A loss function that calculates the square of the difference between the actual and the predicted label values. Here's the calculation of L2 loss for a batch of five examples:\n",
    "\n",
    "| Actual value (a)        | Predicted value (b)     | (a-b)²          |\n",
    "|-------------------------|-------------------------|-----------------|\n",
    "| 7                       | 6                       | 1               |\n",
    "| 5                       | 4                       | 1               |\n",
    "| 8                       | 11                      | 9               |\n",
    "| 4                       | 6                       | 4               |\n",
    "| 9                       | 8                       | 1               |\n",
    "|                         |                         | **Σ(a-b)² = 16**|\n",
    "\n",
    "Due to squaring, L2 loss amplifies the influence of outliers. That is, L2 loss reacts more strongly to bad predictions than L1 loss. For example, the L1 loss for the preceding batch would be 8 rather than 16. Notice that a single outlier accounts for 9 of the 16.\n",
    "\n",
    "Regression models typically use L2 loss as the loss function.\n",
    "\n",
    "### Mean Squared Error (MSE)\n",
    "The Mean Squared Error is the average L2 loss per example. It is calculated using the following formula:\n",
    "\n",
    "MSE (L2 Loss) = (1/n) * Σ(y - ŷ)²\n",
    "\n",
    "Where:\n",
    "- n is the number of examples.\n",
    "- y is the actual value of the label for the i-th example.\n",
    "- ŷ is the value that the model predicts for the i-th example.\n",
    "\n",
    "### Squared Loss\n",
    "Squared loss is another name for L2 loss.\n"
   ]
  },
  {
   "cell_type": "markdown",
   "metadata": {},
   "source": [
    "### Example Dataset: Tennis Match Durations\n",
    "Here's a small dataset representing the actual and predicted durations (in minutes) of five tennis matches:\n",
    "\n",
    "| Match ID | Actual Duration (a) | Predicted Duration (b) |\n",
    "|----------|---------------------|------------------------|\n",
    "| 1        | 120                 | 115                    |\n",
    "| 2        | 150                 | 160                    |\n",
    "| 3        | 90                  | 95                     |\n",
    "| 4        | 180                 | 170                    |\n",
    "| 5        | 130                 | 135                    |\n",
    "\n",
    "### L2 Loss Calculation\n",
    "Now, let's calculate the L2 Loss using the provided formula:\n",
    "\n",
    "| Match ID | Actual Duration (a) | Predicted Duration (b) | (a-b)²          |\n",
    "|----------|---------------------|------------------------|-----------------|\n",
    "| 1        | 120                 | 115                    | 25              |\n",
    "| 2        | 150                 | 160                    | 100             |\n",
    "| 3        | 90                  | 95                     | 25              |\n",
    "| 4        | 180                 | 170                    | 100             |\n",
    "| 5        | 130                 | 135                    | 25              |\n",
    "|          |                     |                        | **Σ(a-b)² = 275**|\n",
    "\n",
    "### Mean Squared Error (MSE)\n",
    "To find the Mean Squared Error (MSE), we divide the sum of squared differences by the number of examples (n=5):\n",
    "\n",
    "\\[ \\text{MSE (L2 Loss)} = \\frac{1}{5} * 275 = 55 \\]"
   ]
  },
  {
   "cell_type": "code",
   "execution_count": 8,
   "metadata": {},
   "outputs": [
    {
     "name": "stdout",
     "output_type": "stream",
     "text": [
      "Dataset:\n",
      "   Match ID  Actual Duration  Predicted Duration\n",
      "0         1              120                 115\n",
      "1         2              150                 160\n",
      "2         3               90                  95\n",
      "3         4              180                 170\n",
      "4         5              130                 135\n",
      "\n",
      "Dataset with L2 Loss:\n",
      "   Match ID  Actual Duration  Predicted Duration  L2 Loss\n",
      "0         1              120                 115       25\n",
      "1         2              150                 160      100\n",
      "2         3               90                  95       25\n",
      "3         4              180                 170      100\n",
      "4         5              130                 135       25\n",
      "\n",
      "Mean Squared Error (MSE): 55.0\n"
     ]
    }
   ],
   "source": [
    "import pandas as pd\n",
    "\n",
    "# Load the dataset\n",
    "filename = 'tennis.csv'\n",
    "data = pd.read_csv(filename)\n",
    "\n",
    "# Display the dataset\n",
    "print(\"Dataset:\")\n",
    "print(data)\n",
    "\n",
    "# Calculate the L2 Loss\n",
    "data['L2 Loss'] = (data['Actual Duration'] - data['Predicted Duration']) ** 2\n",
    "\n",
    "# Display the dataset with L2 Loss\n",
    "print(\"\\nDataset with L2 Loss:\")\n",
    "print(data)\n",
    "\n",
    "# Calculate the Mean Squared Error (MSE)\n",
    "mse = data['L2 Loss'].mean()\n",
    "print(\"\\nMean Squared Error (MSE):\", mse)"
   ]
  },
  {
   "cell_type": "markdown",
   "metadata": {},
   "source": [
    "To obtain the Mean Squared Error (MSE) of 55.0, we initiated by creating a small dataset in a CSV file named `tennis.csv`. This dataset included actual and predicted durations of five tennis matches. Subsequently, we loaded this dataset into a Jupyter Notebook using the pandas library in Python.\n",
    "\n",
    "Once the dataset was loaded, we calculated the L2 Loss for each match in the dataset. The L2 Loss is computed by squaring the difference between the actual and the predicted duration for each match, using the formula `(Actual Duration - Predicted Duration)²`.\n",
    "\n",
    "After calculating the L2 Loss for each match, we proceeded to calculate the Mean Squared Error (MSE). The MSE is the average of the L2 Loss values across all the matches in the dataset. It is calculated by dividing the sum of all L2 Loss values by the number of matches, represented mathematically as:\n",
    "\n",
    "`MSE = (1/n) * Σ(Actual Duration - Predicted Duration)²`\n",
    "\n",
    "Where `n` is the number of matches.\n",
    "\n",
    "In our example, the sum of the L2 Loss values was 275, and since we had five matches in our dataset, the MSE was calculated as:\n",
    "\n",
    "`MSE = 275 / 5 = 55.0`\n",
    "\n",
    "This value of 55.0 as the Mean Squared Error represents the average squared difference between the actual and predicted durations of the tennis matches in our dataset, providing a measure of the accuracy of the predictions.\n"
   ]
  }
 ],
 "metadata": {
  "kernelspec": {
   "display_name": "Python 3",
   "language": "python",
   "name": "python3"
  },
  "language_info": {
   "codemirror_mode": {
    "name": "ipython",
    "version": 3
   },
   "file_extension": ".py",
   "mimetype": "text/x-python",
   "name": "python",
   "nbconvert_exporter": "python",
   "pygments_lexer": "ipython3",
   "version": "3.8.3"
  }
 },
 "nbformat": 4,
 "nbformat_minor": 4
}
