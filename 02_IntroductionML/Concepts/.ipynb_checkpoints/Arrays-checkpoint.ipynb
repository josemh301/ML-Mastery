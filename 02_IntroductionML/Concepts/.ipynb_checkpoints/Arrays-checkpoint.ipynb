{
 "cells": [
  {
   "cell_type": "markdown",
   "metadata": {},
   "source": [
    "# Arrays\n",
    "\n",
    "Basically, you can think of an array as an ordered list of cells; each cell can contain a value (a number or some text). An array can have 1, 2 or 3 dimensions, known as the `x`, `y` and `z` dimensions, also known as the width, height and depth.\n",
    "\n",
    "An array is a matrix. Python calls matrices *lists*, NumPy calls them *arrays* and TensorFlow calls them *tensors*. Python represents matrices with the ``list`` data type.\n",
    "\n",
    "### One-dimensional array\n",
    "\n",
    "#### Scenario 1.1: Tracking daily steps\n",
    "\n",
    "Imagine you have a fitness tracker that counts the number of steps you take each day. At the end of the week, you want to analyze your daily steps to see how active you've been.\n",
    "\n",
    "Here's how you can use a one-dimensional numpy array to store and analyze this data:"
   ]
  },
  {
   "cell_type": "code",
   "execution_count": 1,
   "metadata": {},
   "outputs": [
    {
     "name": "stdout",
     "output_type": "stream",
     "text": [
      "<class 'numpy.ndarray'>\n",
      "Total steps in the week: 44800\n",
      "Average steps per day: 6400.00\n",
      "Day with highest steps: Thursday with 8900 steps\n"
     ]
    }
   ],
   "source": [
    "import numpy as np\n",
    "\n",
    "# Daily steps recorded for a week (Sunday to Saturday)\n",
    "daily_steps = np.array([5000, 7500, 6200, 8900, 7100, 5300, 4800])\n",
    "print(type(daily_steps))\n",
    "\n",
    "# Calculate total steps in the week\n",
    "\n",
    "print(f\"Total steps in the week: {np.sum(daily_steps)}\")\n",
    "\n",
    "# Calculate average steps per day\n",
    "average_steps = np.mean(daily_steps)\n",
    "print(f\"Average steps per day: {average_steps:.2f}\") #two decimal digits\n",
    "\n",
    "# Find the day with the highest steps\n",
    "max_steps = np.max(daily_steps)\n",
    "day_with_max_steps = np.argmax(daily_steps)  # This gives the index of the maximum value\n",
    "days = [\"Monday\", \"Tuesday\", \"Wednesday\", \"Thursday\", \"Friday\", \"Saturday\", \"Sunday\"]\n",
    "print(f\"Day with highest steps: {days[day_with_max_steps]} with {max_steps} steps\")\n"
   ]
  },
  {
   "cell_type": "markdown",
   "metadata": {},
   "source": [
    "In this scenario, the one-dimensional numpy array ``daily_steps`` is used to store the number of steps taken each day. Using numpy functions, you can easily calculate the total, average, and find out which day had the highest number of steps. This is a simple yet practical example of how numpy arrays can be used in daily life to analyze and interpret data.\n",
    "\n",
    "#### Scenario 1.2: Comparing monthly electricity consumption\n",
    "\n",
    "Imagine you want to compare your electricity consumption for each month of the current year with the consumption of the previous year to see if there's been any significant change.\n",
    "\n",
    "Here's how you can use a one-dimensional numpy array along with the ``numpy.diff()`` function to find the difference in monthly consumption between the two years:"
   ]
  },
  {
   "cell_type": "code",
   "execution_count": 2,
   "metadata": {},
   "outputs": [
    {
     "name": "stdout",
     "output_type": "stream",
     "text": [
      "In January, you consumed 10 kWh more than the previous year.\n",
      "In February, you consumed 5 kWh less than the previous year.\n",
      "In March, you consumed 5 kWh more than the previous year.\n",
      "In April, your consumption was the same as the previous year.\n",
      "In May, you consumed 3 kWh more than the previous year.\n",
      "In June, you consumed 5 kWh less than the previous year.\n",
      "In July, you consumed 2 kWh less than the previous year.\n",
      "In August, you consumed 5 kWh more than the previous year.\n",
      "In September, you consumed 5 kWh less than the previous year.\n",
      "In October, you consumed 2 kWh less than the previous year.\n",
      "In November, you consumed 5 kWh more than the previous year.\n",
      "In December, you consumed 2 kWh less than the previous year.\n"
     ]
    }
   ],
   "source": [
    "import numpy as np\n",
    "\n",
    "# Monthly electricity consumption (in kWh) for the previous year and the current year\n",
    "previous_year_consumption = np.array([120, 110, 105, 120, 125, 130, 140, 135, 110, 100, 95, 90])\n",
    "current_year_consumption = np.array([130, 105, 110, 120, 128, 125, 138, 140, 105, 98, 100, 88])\n",
    "\n",
    "# Calculate the difference in consumption for each month\n",
    "difference = np.diff([previous_year_consumption, current_year_consumption], axis=0)[0]\n",
    "\n",
    "months = [\"January\", \"February\", \"March\", \"April\", \"May\", \"June\", \"July\", \"August\", \"September\", \"October\", \"November\", \"December\"]\n",
    "\n",
    "for month, diff in zip(months, difference):\n",
    "    if diff > 0:\n",
    "        print(f\"In {month}, you consumed {diff} kWh more than the previous year.\")\n",
    "    elif diff < 0:\n",
    "        print(f\"In {month}, you consumed {-diff} kWh less than the previous year.\")\n",
    "    else:\n",
    "        print(f\"In {month}, your consumption was the same as the previous year.\")\n"
   ]
  },
  {
   "cell_type": "markdown",
   "metadata": {},
   "source": [
    "In this scenario, the one-dimensional numpy arrays ``previous_year_consumption`` and ``current_year_consumption`` store the monthly electricity consumption for two years. The ``numpy.diff()`` function is used to calculate the difference in consumption for each month between the two years. The results can help you identify months where your consumption habits changed significantly.\n",
    "\n",
    "### Two-dimensional array\n",
    "A 2-dimensional array has a width dimension (x) and a height dimension (y). For example, a 5x5 2-dimensional array would look like this:\n",
    "\n",
    "|   | **0** | **1** | **2** | **3** | **4** |\n",
    "|---|---|---|---|---|---|\n",
    "| **0** | 1 | 6 | 10| 15| 24|\n",
    "| **1** | 2 | 7 | 11| 17| 21|\n",
    "| **2** | 3 | 8 | 12| 16| 22|\n",
    "| **3** | 4 | 9 | 13| 18| 23|\n",
    "| **4** | 5 | 0 | 14| 19| 20|\n",
    "\n",
    "\n",
    "```python\n",
    "    array.at(0,3) = 15```\n",
    "\n",
    "#### Scenario 2.1: Classroom seating arrangement\n",
    "Imagine a classroom where students are seated in a 6x4 grid. Each position in the grid corresponds to a student's name. You want to find out who is sitting in a specific position."
   ]
  },
  {
   "cell_type": "code",
   "execution_count": 3,
   "metadata": {},
   "outputs": [
    {
     "name": "stdout",
     "output_type": "stream",
     "text": [
      "The student sitting at position (3,1) is Noah.\n"
     ]
    }
   ],
   "source": [
    "# Classroom seating arrangement using numpy\n",
    "classroom = np.array([\n",
    "    [\"Alice\", \"Bob\", \"Charlie\", \"David\"],\n",
    "    [\"Eva\", \"Frank\", \"Grace\", \"Hannah\"],\n",
    "    [\"Ian\", \"Jane\", \"Kyle\", \"Liam\"],\n",
    "    [\"Mia\", \"Noah\", \"Olivia\", \"Parker\"],\n",
    "    [\"Quinn\", \"Rachel\", \"Steve\", \"Tina\"],\n",
    "    [\"Uma\", \"Victor\", \"Wendy\", \"Xander\"]\n",
    "])\n",
    "\n",
    "def student_at_position(x, y):\n",
    "    \"\"\"Return the student sitting at position (x,y) using numpy\"\"\"\n",
    "    return classroom[x, y]\n",
    "\n",
    "x,y = 3,1\n",
    "student_name = student_at_position(x,y)\n",
    "print(f\"The student sitting at position ({x},{y}) is {student_name}.\")\n"
   ]
  },
  {
   "cell_type": "markdown",
   "metadata": {},
   "source": [
    "### Three-dimensional array\n",
    "If a 1-d array is a list of cells then in a 2-d array you can imagine that each cell is another list of cells. In a 3-d array, each of those cells is yet another list of cells."
   ]
  },
  {
   "cell_type": "code",
   "execution_count": 4,
   "metadata": {},
   "outputs": [
    {
     "name": "stdout",
     "output_type": "stream",
     "text": [
      "[[[0 0 1 0]\n",
      "  [1 1 1 1]\n",
      "  [0 0 1 0]\n",
      "  [1 1 1 0]]\n",
      "\n",
      " [[1 0 1 1]\n",
      "  [0 0 0 1]\n",
      "  [1 1 1 1]\n",
      "  [1 1 1 0]]\n",
      "\n",
      " [[0 1 0 1]\n",
      "  [0 1 0 0]\n",
      "  [0 0 0 1]\n",
      "  [1 0 0 1]]]\n"
     ]
    }
   ],
   "source": [
    "import numpy as np\n",
    "\n",
    "# Randomly generate the distribution for demonstration purposes\n",
    "# Using random.randint to generate values between 0 and 1\n",
    "distribution = np.random.randint(0, 2, (3, 4, 4))\n",
    "\n",
    "print(distribution)"
   ]
  },
  {
   "cell_type": "markdown",
   "metadata": {},
   "source": [
    "#### Scenario 3.1: High school grade distribution in science classes\n",
    "At Newton High School, the administration wants to analyze the grade distribution in three advanced science classes. Each class has a seating arrangement in a 5x6 grid. The school has observed a pattern where students seated in the front row tend to score higher, while those in the back row score lower.\n",
    "\n",
    "To represent this, we'll generate random grades for students:\n",
    "\n",
    "- Front row (row 0): Grades between 8 to 10\n",
    "- Middle rows (row 1 to 3): Grades between 5 to 9\n",
    "- Last row (row 4): Grades between 0 to 6\n",
    "\n",
    "Here's how you can create this 3D array using numpy:"
   ]
  },
  {
   "cell_type": "code",
   "execution_count": 5,
   "metadata": {},
   "outputs": [
    {
     "name": "stdout",
     "output_type": "stream",
     "text": [
      "Class 1 Grade Distribution:\n",
      "[10  8  8  9  8  8]\n",
      "[8 9 6 6 7 8]\n",
      "[8 9 9 8 5 8]\n",
      "[7 5 7 7 6 5]\n",
      "[3 1 2 4 3 6]\n",
      "------\n",
      "Class 2 Grade Distribution:\n",
      "[10 10  8  9  9 10]\n",
      "[5 6 8 5 9 9]\n",
      "[5 5 9 9 9 8]\n",
      "[6 7 5 5 8 8]\n",
      "[0 1 4 7 0 6]\n",
      "------\n",
      "Class 3 Grade Distribution:\n",
      "[ 9  8  8  8 10  8]\n",
      "[5 9 7 8 6 7]\n",
      "[6 8 8 5 8 5]\n",
      "[9 9 6 6 5 5]\n",
      "[5 1 3 7 3 6]\n",
      "------\n",
      "Class 4 Grade Distribution:\n",
      "[10 10  8  8 10  8]\n",
      "[8 9 8 6 5 7]\n",
      "[9 9 5 6 7 7]\n",
      "[9 6 8 6 7 6]\n",
      "[4 7 7 7 2 2]\n",
      "------\n",
      "Class 5 Grade Distribution:\n",
      "[ 8  8 10 10  9  9]\n",
      "[6 6 7 8 6 8]\n",
      "[9 9 9 8 9 7]\n",
      "[6 6 5 8 5 5]\n",
      "[7 6 7 1 0 7]\n",
      "------\n",
      "Class 6 Grade Distribution:\n",
      "[ 9 10  9  8 10 10]\n",
      "[9 5 8 5 6 8]\n",
      "[7 8 8 6 9 9]\n",
      "[5 5 5 6 5 6]\n",
      "[1 2 7 1 2 2]\n",
      "------\n"
     ]
    }
   ],
   "source": [
    "# Function to generate grades based on row position\n",
    "def generate_grades(row):\n",
    "    if row == 0:\n",
    "        return np.random.randint(8, 11, 6)  # 11 is exclusive\n",
    "    elif row == 4:\n",
    "        return np.random.randint(0, 8, 6)  # 7 is exclusive\n",
    "    else:\n",
    "        return np.random.randint(5, 10, 6)  # 10 is exclusive\n",
    "\n",
    "# Create the grade distribution for three science classes\n",
    "distribution = np.array([\n",
    "    [generate_grades(row) for row in range(5)] for _ in range(6)\n",
    "])\n",
    "\n",
    "# Display the grade distribution\n",
    "for i, class_distribution in enumerate(distribution):\n",
    "    print(f\"Class {i+1} Grade Distribution:\")\n",
    "    for row in class_distribution:\n",
    "        print(row)\n",
    "    print(\"------\")"
   ]
  },
  {
   "cell_type": "markdown",
   "metadata": {},
   "source": [
    "This comment describes the purpose of the upcoming function. The function will generate grades for students based on their row position in the classroom.\n",
    "\n",
    "```python\n",
    "def generate_grades(row):\n",
    "```\n",
    "This line defines a new function named `generate_grades` that takes a single argument, `row`, which represents the row number of the classroom.\n",
    "\n",
    "```python\n",
    "    if row == 0:\n",
    "```\n",
    "This line checks if the row number is `0` (i.e., the front row of the classroom).\n",
    "\n",
    "```python\n",
    "        return np.random.randint(8, 11, 6)  # 11 is exclusive\n",
    "```\n",
    "If the row is the front row, this line generates and returns a list of 6 random integer grades between 8 and 10 (inclusive) for the students sitting in that row.\n",
    "\n",
    "```python\n",
    "    elif row == 4:\n",
    "```\n",
    "This line checks if the row number is `4` (i.e., the last row of the classroom).\n",
    "\n",
    "```python\n",
    "        return np.random.randint(0, 8, 6)  # 7 is exclusive\n",
    "```\n",
    "If the row is the last row, this line generates and returns a list of 6 random integer grades between 0 and 7 (inclusive) for the students sitting in that row.\n",
    "\n",
    "```python\n",
    "    else:\n",
    "```\n",
    "This line handles all other rows (i.e., middle rows of the classroom).\n",
    "\n",
    "```python\n",
    "        return np.random.randint(5, 10, 6)  # 10 is exclusive\n",
    "```\n",
    "For the middle rows, this line generates and returns a list of 6 random integer grades between 5 and 9 (inclusive) for the students sitting in those rows.\n",
    "\n",
    "```python\n",
    "# Create the grade distribution for three science classes\n",
    "```\n",
    "This comment describes the purpose of the upcoming code block. The code will create a grade distribution for three separate science classes.\n",
    "\n",
    "```python\n",
    "distribution = np.array([\n",
    "    [generate_grades(row) for row in range(5)] for _ in range(6)\n",
    "])\n",
    "```\n",
    "This line creates a 3D numpy array representing the grade distribution for three science classes. Each class has 5 rows (0 to 4), and each row has grades for 6 students. The `generate_grades` function is called for each row to determine the grades based on the row position.\n",
    "\n",
    "```python\n",
    "# Display the grade distribution\n",
    "```\n",
    "This comment describes the purpose of the upcoming code block. The code will print the grade distribution for each of the three science classes.\n",
    "\n",
    "```python\n",
    "for i, class_distribution in enumerate(distribution):\n",
    "```\n",
    "This line starts a loop that iterates over each class's grade distribution. The `enumerate` function provides both the index `i` (representing the class number) and the grade distribution for that class.\n",
    "\n",
    "```python\n",
    "    print(f\"Class {i+1} Grade Distribution:\")\n",
    "```\n",
    "This line prints the header for the grade distribution of the current class.\n",
    "\n",
    "```python\n",
    "    for row in class_distribution:\n",
    "```\n",
    "This line starts another loop that iterates over each row of grades in the current class.\n",
    "\n",
    "```python\n",
    "        print(row)\n",
    "```\n",
    "This line prints the grades for the current row of students.\n",
    "\n",
    "```python\n",
    "    print(\"------\")\n",
    "```\n",
    "This line prints a separator line after displaying the grade distribution for each class, making the output more readable.\n"
   ]
  },
  {
   "cell_type": "code",
   "execution_count": null,
   "metadata": {},
   "outputs": [],
   "source": []
  }
 ],
 "metadata": {
  "kernelspec": {
   "display_name": "Python 3",
   "language": "python",
   "name": "python3"
  },
  "language_info": {
   "codemirror_mode": {
    "name": "ipython",
    "version": 3
   },
   "file_extension": ".py",
   "mimetype": "text/x-python",
   "name": "python",
   "nbconvert_exporter": "python",
   "pygments_lexer": "ipython3",
   "version": "3.8.3"
  }
 },
 "nbformat": 4,
 "nbformat_minor": 4
}
