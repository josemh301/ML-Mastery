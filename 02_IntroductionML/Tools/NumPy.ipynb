{
 "cells": [
  {
   "cell_type": "markdown",
   "metadata": {
    "id": "azZFyENLZm_g"
   },
   "source": [
    "# NumPy UltraQuick Tutorial\n",
    "\n",
    "[Numpy](https://numpy.org/doc/stable/index.html) is a Python library for creating and manipulating matrices, the main data structure used by ML algorithms. [Matrices](https://en.wikipedia.org/wiki/Matrix_(mathematics)) are mathematical objects used to store values in rows and columns.\n",
    "\n",
    "Python calls matrices *lists*, NumPy calls them *arrays* and TensorFlow calls them *tensors*. Python represents matrices with the [list data type](https://docs.python.org/3/library/stdtypes.html#lists).\n",
    "\n",
    "This Colab is not an exhaustive tutorial on NumPy.  Rather, this Colab teaches you just enough to use NumPy in the Colab exercises of Machine Learning Crash Course."
   ]
  },
  {
   "cell_type": "markdown",
   "metadata": {
    "id": "Ll9RWewwFwX6"
   },
   "source": [
    "## Import NumPy module\n",
    "\n",
    "Run the following code cell to import the NumPy module:"
   ]
  },
  {
   "cell_type": "code",
   "execution_count": 2,
   "metadata": {
    "id": "guvPzSWYJGZ4"
   },
   "outputs": [],
   "source": [
    "import numpy as np"
   ]
  },
  {
   "cell_type": "markdown",
   "metadata": {
    "id": "7cT9fXS_JUpa"
   },
   "source": [
    "## Populate arrays with specific numbers\n",
    "\n",
    "Call `np.array` to create a NumPy array with your own hand-picked values. For example, the following call to `np.array` creates an 8-element array:"
   ]
  },
  {
   "cell_type": "code",
   "execution_count": 3,
   "metadata": {
    "id": "XxJR5xKpJbB3"
   },
   "outputs": [
    {
     "name": "stdout",
     "output_type": "stream",
     "text": [
      "[1.2 2.4 3.5 4.7 6.1 7.2 8.3 9.5]\n"
     ]
    }
   ],
   "source": [
    "one_dimensional_array = np.array([1.2, 2.4, 3.5, 4.7, 6.1, 7.2, 8.3, 9.5])\n",
    "print(one_dimensional_array)"
   ]
  },
  {
   "cell_type": "markdown",
   "metadata": {
    "id": "RKywqhLTbR1M"
   },
   "source": [
    "You can also use `np.array` to create a two-dimensional array. To create a two-dimensional array specify an extra layer of square brackets. For example, the following call creates a 3x2 array:"
   ]
  },
  {
   "cell_type": "code",
   "execution_count": 4,
   "metadata": {
    "id": "_veGj18eMCDu"
   },
   "outputs": [
    {
     "name": "stdout",
     "output_type": "stream",
     "text": [
      "[[ 6  5]\n",
      " [11  7]\n",
      " [ 4  8]]\n"
     ]
    }
   ],
   "source": [
    "two_dimensional_array = np.array([[6, 5], [11, 7], [4, 8]])\n",
    "print(two_dimensional_array)"
   ]
  },
  {
   "cell_type": "markdown",
   "metadata": {
    "id": "0ED7eug9CvGR"
   },
   "source": [
    "To populate an array with all zeroes, call `np.zeros`. To populate an array with all ones, call `np.ones`."
   ]
  },
  {
   "cell_type": "markdown",
   "metadata": {
    "id": "gEy_pdBoROu3"
   },
   "source": [
    "## Populate arrays with sequences of numbers\n",
    "\n",
    "You can populate an array with a sequence of numbers:"
   ]
  },
  {
   "cell_type": "code",
   "execution_count": 5,
   "metadata": {
    "id": "CjHfYWhdQYtO"
   },
   "outputs": [
    {
     "name": "stdout",
     "output_type": "stream",
     "text": [
      "[ 5  6  7  8  9 10 11]\n"
     ]
    }
   ],
   "source": [
    "sequence_of_integers = np.arange(5, 12)\n",
    "print(sequence_of_integers)"
   ]
  },
  {
   "cell_type": "markdown",
   "metadata": {
    "id": "1x3OoWrPWn8S"
   },
   "source": [
    "Notice that `np.arange` generates a sequence that includes the lower bound (5) but not the upper bound (12)."
   ]
  },
  {
   "cell_type": "markdown",
   "metadata": {
    "id": "aiqqxDBINAOY"
   },
   "source": [
    "## Populate arrays with random numbers\n",
    "\n",
    "NumPy provides various functions to populate arrays with random numbers across certain ranges. For example, `np.random.randint` generates random integers between a low and high value. The following call populates a 6-element array with random integers between 50 and 100.\n",
    "\n",
    "\n"
   ]
  },
  {
   "cell_type": "code",
   "execution_count": 6,
   "metadata": {
    "id": "tG8ao9CsNqw8"
   },
   "outputs": [
    {
     "name": "stdout",
     "output_type": "stream",
     "text": [
      "[79 82 69 54 62 74]\n"
     ]
    }
   ],
   "source": [
    "random_integers_between_50_and_100 = np.random.randint(low=50, high=101, size=(6))\n",
    "print(random_integers_between_50_and_100)"
   ]
  },
  {
   "cell_type": "markdown",
   "metadata": {
    "id": "BSU7lMUcgRm3"
   },
   "source": [
    "Note that the highest generated integer `np.random.randint` is one less than the `high` argument."
   ]
  },
  {
   "cell_type": "markdown",
   "metadata": {
    "id": "lQF6-Eg0ksqE"
   },
   "source": [
    "To create random floating-point values between 0.0 and 1.0, call `np.random.random`. For example:"
   ]
  },
  {
   "cell_type": "code",
   "execution_count": 7,
   "metadata": {
    "id": "6Ny0eXZPk5Ax"
   },
   "outputs": [
    {
     "name": "stdout",
     "output_type": "stream",
     "text": [
      "[0.15498687 0.27518245 0.78862611 0.19081638 0.48908926 0.92225156]\n"
     ]
    }
   ],
   "source": [
    "random_floats_between_0_and_1 = np.random.random([6])\n",
    "print(random_floats_between_0_and_1)"
   ]
  },
  {
   "cell_type": "markdown",
   "metadata": {
    "id": "eXOdSjRlSEf6"
   },
   "source": [
    "## Mathematical Operations on NumPy Operands\n",
    "\n",
    "If you want to add or subtract two arrays, linear algebra requires that the two operands have the same dimensions. Furthermore, if you want to multiply two arrays, linear algebra imposes strict rules on the dimensional compatibility of operands. Fortunately, NumPy uses a trick called [**broadcasting**](https://developers.google.com/machine-learning/glossary/#broadcasting) to virtually expand the smaller operand to dimensions compatible for linear algebra. For example, the following operation uses broadcasting to add 2.0 to the value of every item in the array created in the previous code cell:"
   ]
  },
  {
   "cell_type": "code",
   "execution_count": 8,
   "metadata": {
    "id": "J5E5S0wjRvQr"
   },
   "outputs": [
    {
     "name": "stdout",
     "output_type": "stream",
     "text": [
      "[2.15498687 2.27518245 2.78862611 2.19081638 2.48908926 2.92225156]\n"
     ]
    }
   ],
   "source": [
    "random_floats_between_2_and_3 = random_floats_between_0_and_1 + 2.0\n",
    "print(random_floats_between_2_and_3)"
   ]
  },
  {
   "cell_type": "markdown",
   "metadata": {
    "id": "x6K_poVDPpAg"
   },
   "source": [
    "The following operation also relies on broadcasting to multiply each cell in an array by 3:"
   ]
  },
  {
   "cell_type": "code",
   "execution_count": 9,
   "metadata": {
    "id": "tYjvXmvFPoPB"
   },
   "outputs": [
    {
     "name": "stdout",
     "output_type": "stream",
     "text": [
      "[237 246 207 162 186 222]\n"
     ]
    }
   ],
   "source": [
    "random_integers_between_150_and_300 = random_integers_between_50_and_100 * 3\n",
    "print(random_integers_between_150_and_300)"
   ]
  },
  {
   "cell_type": "markdown",
   "metadata": {
    "id": "hfYVa8iQTaUL"
   },
   "source": [
    "## Task 1: Create a Linear Dataset\n",
    "\n",
    "Your goal is to create a simple dataset consisting of a single feature and a label as follows:\n",
    "\n",
    "1. Assign a sequence of integers from 6 to 20 (inclusive) to a NumPy array named `feature`.\n",
    "2. Assign 15 values to a NumPy array named `label` such that:\n",
    "\n",
    "```\n",
    "   label = (3)(feature) + 4\n",
    "```\n",
    "For example, the first value for `label` should be:\n",
    "\n",
    "```\n",
    "  label = (3)(6) + 4 = 22\n",
    " ```"
   ]
  },
  {
   "cell_type": "code",
   "execution_count": 14,
   "metadata": {
    "id": "qK9UF2rUc3Y_"
   },
   "outputs": [
    {
     "name": "stdout",
     "output_type": "stream",
     "text": [
      "Feature: [ 6  7  8  9 10 11 12 13 14 15 16 17 18 19 20]\n",
      "Label: [22 25 28 31 34 37 40 43 46 49 52 55 58 61 64]\n"
     ]
    }
   ],
   "source": [
    "import numpy as np\n",
    "\n",
    "# 1. Assign a sequence of integers from 6 to 20 to a NumPy array named feature.\n",
    "feature = np.arange(6, 21)\n",
    "\n",
    "# 2. Assign values to a NumPy array named label using the formula.\n",
    "label = 3 * feature + 4\n",
    "\n",
    "print(\"Feature:\", feature)\n",
    "print(\"Label:\", label)\n"
   ]
  },
  {
   "cell_type": "markdown",
   "metadata": {
    "id": "RNsjGYRj87PB"
   },
   "source": [
    "## Task 2: Add Some Noise to the Dataset\n",
    "\n",
    "To make your dataset a little more realistic, insert a little random noise into each element of the `label` array you already created. To be more precise, modify each value assigned to `label` by adding a *different* random floating-point value between -2 and +2.\n",
    "\n",
    "Don't rely on broadcasting. Instead, create a `noise` array having the same dimension as `label`."
   ]
  },
  {
   "cell_type": "code",
   "execution_count": 18,
   "metadata": {
    "id": "HF-flFfs9r0q"
   },
   "outputs": [
    {
     "name": "stdout",
     "output_type": "stream",
     "text": [
      "[-0.89222672  1.80369558 -0.09772822  1.77533707 -1.55066304]\n",
      "[ 4.10777328 11.80369558 14.90227178 21.77533707 23.44933696]\n"
     ]
    }
   ],
   "source": [
    "import numpy as np\n",
    "\n",
    "# Assuming label is an existing numpy array\n",
    "label = np.array([5, 10, 15, 20, 25])  # Example label array\n",
    "\n",
    "# Create a noise array with the same shape as label\n",
    "noise = np.random.uniform(-2, 2, label.shape)\n",
    "\n",
    "# Add the noise to the label\n",
    "label = label.astype(float)  # Convert label to float\n",
    "label += noise\n",
    "\n",
    "\n",
    "print(noise)  # This will print the random noise values\n",
    "print(label)  # This will print the label values after adding the noise\n"
   ]
  },
  {
   "cell_type": "code",
   "execution_count": 19,
   "metadata": {
    "cellView": "form",
    "id": "7chgYKrC93np"
   },
   "outputs": [
    {
     "name": "stdout",
     "output_type": "stream",
     "text": [
      "[-0.97913121 -0.22382614 -1.32224301  0.75332535 -0.35081182  0.10865017\n",
      "  1.44200828 -0.3885456   0.65109345 -1.546429    0.84271428  1.70205778\n",
      "  1.10657341 -1.78866751 -1.15072132]\n"
     ]
    },
    {
     "ename": "ValueError",
     "evalue": "operands could not be broadcast together with shapes (5,) (15,) ",
     "output_type": "error",
     "traceback": [
      "\u001b[1;31m---------------------------------------------------------------------------\u001b[0m",
      "\u001b[1;31mValueError\u001b[0m                                Traceback (most recent call last)",
      "Cell \u001b[1;32mIn[19], line 5\u001b[0m\n\u001b[0;32m      3\u001b[0m noise \u001b[38;5;241m=\u001b[39m (np\u001b[38;5;241m.\u001b[39mrandom\u001b[38;5;241m.\u001b[39mrandom([\u001b[38;5;241m15\u001b[39m]) \u001b[38;5;241m*\u001b[39m \u001b[38;5;241m4\u001b[39m) \u001b[38;5;241m-\u001b[39m \u001b[38;5;241m2\u001b[39m\n\u001b[0;32m      4\u001b[0m \u001b[38;5;28mprint\u001b[39m(noise)\n\u001b[1;32m----> 5\u001b[0m label \u001b[38;5;241m=\u001b[39m \u001b[43mlabel\u001b[49m\u001b[43m \u001b[49m\u001b[38;5;241;43m+\u001b[39;49m\u001b[43m \u001b[49m\u001b[43mnoise\u001b[49m\n\u001b[0;32m      6\u001b[0m \u001b[38;5;28mprint\u001b[39m(label)\n",
      "\u001b[1;31mValueError\u001b[0m: operands could not be broadcast together with shapes (5,) (15,) "
     ]
    }
   ],
   "source": [
    "# Another possible solution to Task 2.\n",
    "\n",
    "noise = (np.random.random([15]) * 4) - 2\n",
    "print(noise)\n",
    "label = label + noise\n",
    "print(label)"
   ]
  },
  {
   "cell_type": "code",
   "execution_count": null,
   "metadata": {},
   "outputs": [],
   "source": []
  }
 ],
 "metadata": {
  "colab": {
   "name": "NumPy UltraQuick Tutorial",
   "private_outputs": true,
   "provenance": []
  },
  "kernelspec": {
   "display_name": "Python 3",
   "language": "python",
   "name": "python3"
  },
  "language_info": {
   "codemirror_mode": {
    "name": "ipython",
    "version": 3
   },
   "file_extension": ".py",
   "mimetype": "text/x-python",
   "name": "python",
   "nbconvert_exporter": "python",
   "pygments_lexer": "ipython3",
   "version": "3.8.3"
  }
 },
 "nbformat": 4,
 "nbformat_minor": 1
}
