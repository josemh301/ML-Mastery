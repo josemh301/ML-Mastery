{
 "cells": [
  {
   "cell_type": "markdown",
   "metadata": {
    "id": "DeKRcpe49VnV"
   },
   "source": [
    "# Pandas DataFrame UltraQuick Tutorial\n",
    "\n",
    "A DataFrame is similar to an in-memory spreadsheet. Like a spreadsheet:\n",
    "\n",
    "  * A DataFrame stores data in cells.\n",
    "  * A DataFrame has named columns (usually) and numbered rows."
   ]
  },
  {
   "cell_type": "markdown",
   "metadata": {
    "id": "AByfHsr8H_sU"
   },
   "source": [
    "## Import NumPy and pandas modules\n",
    "\n",
    "Run the following code cell to import the NumPy and pandas modules."
   ]
  },
  {
   "cell_type": "code",
   "execution_count": 2,
   "metadata": {
    "id": "ZmL0l551Iibq"
   },
   "outputs": [],
   "source": [
    "import numpy as np\n",
    "import pandas as pd"
   ]
  },
  {
   "cell_type": "markdown",
   "metadata": {
    "id": "RutIK84wIp1S"
   },
   "source": [
    "## Creating a DataFrame\n",
    "\n",
    "The following code cell creates a simple DataFrame containing 10 cells organized as follows:\n",
    "\n",
    "  * 5 rows\n",
    "  * 2 columns, one named `temperature` and the other named `activity`\n",
    "\n",
    "The following code cell instantiates a `pd.DataFrame` class to generate a DataFrame. The class takes two arguments:\n",
    "\n",
    "  * The first argument provides the data to populate the 10 cells. The code cell calls `np.array` to generate the 5x2 NumPy array.\n",
    "  * The second argument identifies the names of the two columns.\n",
    "\n",
    "**Note**: Do not redefine variables in the following code cell. Subsequent code cells use these variables."
   ]
  },
  {
   "cell_type": "code",
   "execution_count": 1,
   "metadata": {
    "id": "FNZsPOgSD4F2"
   },
   "outputs": [
    {
     "ename": "NameError",
     "evalue": "name 'np' is not defined",
     "output_type": "error",
     "traceback": [
      "\u001b[1;31m---------------------------------------------------------------------------\u001b[0m",
      "\u001b[1;31mNameError\u001b[0m                                 Traceback (most recent call last)",
      "Cell \u001b[1;32mIn[1], line 2\u001b[0m\n\u001b[0;32m      1\u001b[0m \u001b[38;5;66;03m# Create and populate a 5x2 NumPy array.\u001b[39;00m\n\u001b[1;32m----> 2\u001b[0m my_data \u001b[38;5;241m=\u001b[39m \u001b[43mnp\u001b[49m\u001b[38;5;241m.\u001b[39marray([[\u001b[38;5;241m5\u001b[39m, \u001b[38;5;241m3\u001b[39m], [\u001b[38;5;241m10\u001b[39m, \u001b[38;5;241m7\u001b[39m], [\u001b[38;5;241m20\u001b[39m, \u001b[38;5;241m9\u001b[39m], [\u001b[38;5;241m30\u001b[39m, \u001b[38;5;241m14\u001b[39m], [\u001b[38;5;241m40\u001b[39m, \u001b[38;5;241m15\u001b[39m]])\n\u001b[0;32m      4\u001b[0m \u001b[38;5;66;03m# Create a Python list that holds the names of the two columns.\u001b[39;00m\n\u001b[0;32m      5\u001b[0m my_column_names \u001b[38;5;241m=\u001b[39m [\u001b[38;5;124m'\u001b[39m\u001b[38;5;124mtemperature\u001b[39m\u001b[38;5;124m'\u001b[39m, \u001b[38;5;124m'\u001b[39m\u001b[38;5;124mactivity\u001b[39m\u001b[38;5;124m'\u001b[39m]\n",
      "\u001b[1;31mNameError\u001b[0m: name 'np' is not defined"
     ]
    }
   ],
   "source": [
    "# Create and populate a 5x2 NumPy array.\n",
    "my_data = np.array([[5, 3], [10, 7], [20, 9], [30, 14], [40, 15]])\n",
    "\n",
    "# Create a Python list that holds the names of the two columns.\n",
    "my_column_names = ['temperature', 'activity']\n",
    "\n",
    "# Create a DataFrame.\n",
    "my_dataframe = pd.DataFrame(data=my_data, columns=my_column_names)\n",
    "\n",
    "# Print the entire DataFrame\n",
    "print(my_dataframe)"
   ]
  },
  {
   "cell_type": "markdown",
   "metadata": {
    "id": "NJ-I78_7OFVs"
   },
   "source": [
    "## Adding a new column to a DataFrame\n",
    "\n",
    "You may add a new column to an existing pandas DataFrame just by assigning values to a new column name. For example, the following code creates a third column named `adjusted` in `my_dataframe`:"
   ]
  },
  {
   "cell_type": "code",
   "execution_count": 4,
   "metadata": {
    "id": "JEBZyMdEOngx"
   },
   "outputs": [
    {
     "name": "stdout",
     "output_type": "stream",
     "text": [
      "   temperature  activity  adjusted\n",
      "0            0         3         5\n",
      "1           10         7         9\n",
      "2           20         9        11\n",
      "3           30        14        16\n",
      "4           40        15        17\n"
     ]
    }
   ],
   "source": [
    "# Create a new column named adjusted.\n",
    "my_dataframe[\"adjusted\"] = my_dataframe[\"activity\"] + 2\n",
    "\n",
    "# Print the entire DataFrame\n",
    "print(my_dataframe)"
   ]
  },
  {
   "cell_type": "markdown",
   "metadata": {
    "id": "RJ2aziCR5th2"
   },
   "source": [
    "## Specifying a subset of a DataFrame\n",
    "\n",
    "Pandas provide multiples ways to isolate specific rows, columns, slices or cells in a DataFrame."
   ]
  },
  {
   "cell_type": "code",
   "execution_count": 5,
   "metadata": {
    "id": "RIO91Fu65s6k"
   },
   "outputs": [
    {
     "name": "stdout",
     "output_type": "stream",
     "text": [
      "Rows #0, #1, and #2:\n",
      "   temperature  activity  adjusted\n",
      "0            0         3         5\n",
      "1           10         7         9\n",
      "2           20         9        11 \n",
      "\n",
      "Row #2:\n",
      "   temperature  activity  adjusted\n",
      "2           20         9        11 \n",
      "\n",
      "Rows #1, #2, and #3:\n",
      "   temperature  activity  adjusted\n",
      "1           10         7         9\n",
      "2           20         9        11\n",
      "3           30        14        16 \n",
      "\n",
      "Column 'temperature':\n",
      "0     0\n",
      "1    10\n",
      "2    20\n",
      "3    30\n",
      "4    40\n",
      "Name: temperature, dtype: int32\n"
     ]
    }
   ],
   "source": [
    "print(\"Rows #0, #1, and #2:\")\n",
    "print(my_dataframe.head(3), '\\n')\n",
    "\n",
    "print(\"Row #2:\")\n",
    "print(my_dataframe.iloc[[2]], '\\n')\n",
    "\n",
    "print(\"Rows #1, #2, and #3:\")\n",
    "print(my_dataframe[1:4], '\\n')\n",
    "\n",
    "print(\"Column 'temperature':\")\n",
    "print(my_dataframe['temperature'])"
   ]
  },
  {
   "cell_type": "markdown",
   "metadata": {
    "id": "_cL_NxAdZzdS"
   },
   "source": [
    "## Task 1: Create a DataFrame\n",
    "\n",
    "Do the following:\n",
    "\n",
    "  1. Create an 3x4 (3 rows x 4 columns) pandas DataFrame in which the columns are named `Eleanor`,  `Chidi`, `Tahani`, and `Jason`.  Populate each of the 12 cells in the DataFrame with a random integer between 0 and 100, inclusive.\n",
    "\n",
    "  2. Output the following:\n",
    "\n",
    "     * the entire DataFrame\n",
    "     * the value in the cell of row #1 of the `Eleanor` column\n",
    "\n",
    "  3. Create a fifth column named `Janet`, which is populated with the row-by-row sums of `Tahani` and `Jason`.\n",
    "\n",
    "To complete this task, it helps to know the NumPy basics covered in the NumPy UltraQuick Tutorial.\n"
   ]
  },
  {
   "cell_type": "code",
   "execution_count": 6,
   "metadata": {
    "id": "cIJEv08DMSxj",
    "scrolled": true
   },
   "outputs": [
    {
     "name": "stdout",
     "output_type": "stream",
     "text": [
      "   Eleanor  Chidi  Tahani  Jason\n",
      "0       17     42      54     40\n",
      "1       23     42      67     65\n",
      "2       78     44      10     99\n",
      "\n",
      "Value in row #1 of Eleanor column: 23\n",
      "\n",
      "DataFrame after adding Janet column:\n",
      "   Eleanor  Chidi  Tahani  Jason  Janet\n",
      "0       17     42      54     40     94\n",
      "1       23     42      67     65    132\n",
      "2       78     44      10     99    109\n"
     ]
    }
   ],
   "source": [
    "# Write your code here.\n",
    "\n",
    "import pandas as pd\n",
    "import numpy as np\n",
    "\n",
    "# Step 1 & 2: Create DataFrame and populate with random integers\n",
    "df = pd.DataFrame({\n",
    "    'Eleanor': np.random.randint(0, 101, 3),\n",
    "    'Chidi': np.random.randint(0, 101, 3),\n",
    "    'Tahani': np.random.randint(0, 101, 3),\n",
    "    'Jason': np.random.randint(0, 101, 3)\n",
    "})\n",
    "\n",
    "# Step 3: Output the entire DataFrame\n",
    "print(df)\n",
    "\n",
    "# Step 4: Output the value in the cell of row #1 of the Eleanor column\n",
    "print(\"\\nValue in row #1 of Eleanor column:\", df['Eleanor'][1])\n",
    "\n",
    "# Step 5: Create a fifth column named Janet\n",
    "df['Janet'] = df['Tahani'] + df['Jason']\n",
    "print(\"\\nDataFrame after adding Janet column:\")\n",
    "print(df)\n"
   ]
  },
  {
   "cell_type": "code",
   "execution_count": 7,
   "metadata": {
    "cellView": "form",
    "id": "dPmpVM_8IoBO"
   },
   "outputs": [
    {
     "name": "stdout",
     "output_type": "stream",
     "text": [
      "   Eleanor  Chidi  Tahani  Jason\n",
      "0        5     83      18     15\n",
      "1       37     99      52    100\n",
      "2       43     17      31     58\n",
      "\n",
      "Second row of the Eleanor column: 37\n",
      "\n",
      "   Eleanor  Chidi  Tahani  Jason  Janet\n",
      "0        5     83      18     15     33\n",
      "1       37     99      52    100    152\n",
      "2       43     17      31     58     89\n"
     ]
    }
   ],
   "source": [
    "# Other solution\n",
    "\n",
    "# Create a Python list that holds the names of the four columns.\n",
    "my_column_names = ['Eleanor', 'Chidi', 'Tahani', 'Jason']\n",
    "\n",
    "# Create a 3x4 numpy array, each cell populated with a random integer.\n",
    "my_data = np.random.randint(low=0, high=101, size=(3, 4))\n",
    "\n",
    "# Create a DataFrame.\n",
    "df = pd.DataFrame(data=my_data, columns=my_column_names)\n",
    "\n",
    "# Print the entire DataFrame\n",
    "print(df)\n",
    "\n",
    "# Print the value in row #1 of the Eleanor column.\n",
    "print(\"\\nSecond row of the Eleanor column: %d\\n\" % df['Eleanor'][1])\n",
    "\n",
    "# Create a column named Janet whose contents are the sum\n",
    "# of two other columns.\n",
    "df['Janet'] = df['Tahani'] + df['Jason']\n",
    "\n",
    "# Print the enhanced DataFrame\n",
    "print(df)"
   ]
  },
  {
   "cell_type": "markdown",
   "metadata": {
    "id": "bh7MeyafemNL"
   },
   "source": [
    "## Copying a DataFrame (optional)\n",
    "\n",
    "Pandas provides two different ways to duplicate a DataFrame:\n",
    "\n",
    "* **Referencing.** If you assign a DataFrame to a new variable, any change to the DataFrame or to the new variable will be reflected in the other.\n",
    "* **Copying.** If you call the `pd.DataFrame.copy` method, you create a true independent copy.  Changes to the original DataFrame or to the copy will not be reflected in the other.\n",
    "\n",
    "The difference is subtle, but important."
   ]
  },
  {
   "cell_type": "code",
   "execution_count": 8,
   "metadata": {
    "id": "YDu2VotPgzsW"
   },
   "outputs": [
    {
     "name": "stdout",
     "output_type": "stream",
     "text": [
      "Experiment with a reference:\n",
      "  Starting value of df: 100\n",
      "  Starting value of reference_to_df: 100\n",
      "\n",
      "  Updated df: 105\n",
      "  Updated reference_to_df: 105\n",
      "\n",
      "\n",
      "Experiment with a true copy:\n",
      "  Starting value of my_dataframe: 7\n",
      "  Starting value of copy_of_my_dataframe: 7\n",
      "\n",
      "  Updated my_dataframe: 10\n",
      "  copy_of_my_dataframe does not get updated: 7\n"
     ]
    }
   ],
   "source": [
    "# Create a reference by assigning my_dataframe to a new variable.\n",
    "print(\"Experiment with a reference:\")\n",
    "reference_to_df = df\n",
    "\n",
    "# Print the starting value of a particular cell.\n",
    "print(\"  Starting value of df: %d\" % df['Jason'][1])\n",
    "print(\"  Starting value of reference_to_df: %d\\n\" % reference_to_df['Jason'][1])\n",
    "\n",
    "# Modify a cell in df.\n",
    "df.at[1, 'Jason'] = df['Jason'][1] + 5\n",
    "print(\"  Updated df: %d\" % df['Jason'][1])\n",
    "print(\"  Updated reference_to_df: %d\\n\\n\" % reference_to_df['Jason'][1])\n",
    "\n",
    "# Create a true copy of my_dataframe\n",
    "print(\"Experiment with a true copy:\")\n",
    "copy_of_my_dataframe = my_dataframe.copy()\n",
    "\n",
    "# Print the starting value of a particular cell.\n",
    "print(\"  Starting value of my_dataframe: %d\" % my_dataframe['activity'][1])\n",
    "print(\"  Starting value of copy_of_my_dataframe: %d\\n\" % copy_of_my_dataframe['activity'][1])\n",
    "\n",
    "# Modify a cell in df.\n",
    "my_dataframe.at[1, 'activity'] = my_dataframe['activity'][1] + 3\n",
    "print(\"  Updated my_dataframe: %d\" % my_dataframe['activity'][1])\n",
    "print(\"  copy_of_my_dataframe does not get updated: %d\" % copy_of_my_dataframe['activity'][1])"
   ]
  },
  {
   "cell_type": "code",
   "execution_count": null,
   "metadata": {},
   "outputs": [],
   "source": []
  }
 ],
 "metadata": {
  "colab": {
   "name": "Pandas DataFrame UltraQuick Tutorial.ipynb",
   "private_outputs": true,
   "provenance": []
  },
  "kernelspec": {
   "display_name": "Python 3",
   "language": "python",
   "name": "python3"
  },
  "language_info": {
   "codemirror_mode": {
    "name": "ipython",
    "version": 3
   },
   "file_extension": ".py",
   "mimetype": "text/x-python",
   "name": "python",
   "nbconvert_exporter": "python",
   "pygments_lexer": "ipython3",
   "version": "3.8.3"
  }
 },
 "nbformat": 4,
 "nbformat_minor": 1
}
