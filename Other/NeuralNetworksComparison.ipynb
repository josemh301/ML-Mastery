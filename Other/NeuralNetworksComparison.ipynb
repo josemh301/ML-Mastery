{
 "cells": [
  {
   "cell_type": "markdown",
   "id": "128303e7",
   "metadata": {},
   "source": [
    "|                    | **RNN**                                           | **LSTM**                                                | **CNN**                                                   |\n",
    "|--------------------|---------------------------------------------------|---------------------------------------------------------|-----------------------------------------------------------|\n",
    "| **Key Idea**       | Memory of previous steps.                         | Long-term dependencies and forgetting mechanism.         | Local receptive fields and parameter sharing.             |\n",
    "| **When to Use**    | - Short sequences                                 | - Long sequences with long-term dependencies              | - Grid-like data (e.g., images)                           |\n",
    "|                    | - Simple temporal patterns                        | - When simple RNNs fail due to vanishing gradient issues | - When spatial hierarchies of features are essential      |\n",
    "| **Strengths**      | - Can process sequences of variable length.       | - Can learn and remember over long sequences.            | - Efficient for grid-like data thanks to parameter sharing|\n",
    "|                    | - Has a memory of past inputs.                    | - Resilient to vanishing gradient problem.               | - Can learn spatial hierarchies of features.              |\n",
    "| **Weaknesses**     | - Difficult to train on long sequences.           | - Computationally more intensive than simple RNNs.       | - Not naturally suited for sequence data.                 |\n",
    "|                    | - Vanishing gradient problem for longer sequences.| - Might be overkill for simple sequence prediction tasks.| - Less interpretable for sequence data.                   |\n",
    "| **When Not to Use**| - Long sequences with long-term dependencies.     | - Simple, short sequences without long-term dependencies | - Pure sequence data without spatial characteristics.      |\n",
    "\n"
   ]
  }
 ],
 "metadata": {
  "kernelspec": {
   "display_name": "Python 3",
   "language": "python",
   "name": "python3"
  },
  "language_info": {
   "codemirror_mode": {
    "name": "ipython",
    "version": 3
   },
   "file_extension": ".py",
   "mimetype": "text/x-python",
   "name": "python",
   "nbconvert_exporter": "python",
   "pygments_lexer": "ipython3",
   "version": "3.6.13"
  }
 },
 "nbformat": 4,
 "nbformat_minor": 5
}
